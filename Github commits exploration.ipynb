{
 "cells": [
  {
   "cell_type": "code",
   "execution_count": 2,
   "metadata": {},
   "outputs": [],
   "source": [
    "# Imports\n",
    "import pandas as pd\n",
    "import numpy as np\n",
    "import matplotlib.pyplot as plt\n",
    "import seaborn as sns\n",
    "%matplotlib inline\n",
    "\n",
    "from urllib.request import urlopen\n",
    "from bs4 import BeautifulSoup"
   ]
  },
  {
   "cell_type": "markdown",
   "metadata": {},
   "source": [
    "Load the script: `%load first-git-script.py`"
   ]
  },
  {
   "cell_type": "code",
   "execution_count": 8,
   "metadata": {},
   "outputs": [],
   "source": [
    "# Basic script to get list of repos for given organization\n",
    "\n",
    "# %load first-git-script.py\n",
    "import json\n",
    "import requests\n",
    "\n",
    "api_url_base = 'https://api.github.com/'\n",
    "headers = {'Content-Type': 'application/json',\n",
    "           'User-Agent': 'Python Student',\n",
    "           'Accept': 'application/vnd.github.v3+json'}\n",
    "\n",
    "def get_repos(username):\n",
    "\n",
    "    api_url = '{}orgs/{}/repos'.format(api_url_base, username)\n",
    "\n",
    "    response = requests.get(api_url, headers=headers)\n",
    "\n",
    "    if response.status_code == 200:\n",
    "        return (response.json())\n",
    "    else:\n",
    "        print('[!] HTTP {0} calling [{1}]'.format(response.status_code, api_url))\n",
    "        return None"
   ]
  },
  {
   "cell_type": "code",
   "execution_count": 4,
   "metadata": {},
   "outputs": [],
   "source": [
    "recurse = get_repos('recursecenter')"
   ]
  },
  {
   "cell_type": "code",
   "execution_count": 46,
   "metadata": {},
   "outputs": [
    {
     "data": {
      "text/plain": [
       "{'id': 7947018,\n",
       " 'node_id': 'MDEwOlJlcG9zaXRvcnk3OTQ3MDE4',\n",
       " 'name': 'hs-cli',\n",
       " 'full_name': 'recursecenter/hs-cli',\n",
       " 'private': False,\n",
       " 'owner': {'login': 'recursecenter',\n",
       "  'id': 1085202,\n",
       "  'node_id': 'MDEyOk9yZ2FuaXphdGlvbjEwODUyMDI=',\n",
       "  'avatar_url': 'https://avatars2.githubusercontent.com/u/1085202?v=4',\n",
       "  'gravatar_id': '',\n",
       "  'url': 'https://api.github.com/users/recursecenter',\n",
       "  'html_url': 'https://github.com/recursecenter',\n",
       "  'followers_url': 'https://api.github.com/users/recursecenter/followers',\n",
       "  'following_url': 'https://api.github.com/users/recursecenter/following{/other_user}',\n",
       "  'gists_url': 'https://api.github.com/users/recursecenter/gists{/gist_id}',\n",
       "  'starred_url': 'https://api.github.com/users/recursecenter/starred{/owner}{/repo}',\n",
       "  'subscriptions_url': 'https://api.github.com/users/recursecenter/subscriptions',\n",
       "  'organizations_url': 'https://api.github.com/users/recursecenter/orgs',\n",
       "  'repos_url': 'https://api.github.com/users/recursecenter/repos',\n",
       "  'events_url': 'https://api.github.com/users/recursecenter/events{/privacy}',\n",
       "  'received_events_url': 'https://api.github.com/users/recursecenter/received_events',\n",
       "  'type': 'Organization',\n",
       "  'site_admin': False},\n",
       " 'html_url': 'https://github.com/recursecenter/hs-cli',\n",
       " 'description': 'UNMAINTAINED – Hacker School command line tool',\n",
       " 'fork': False,\n",
       " 'url': 'https://api.github.com/repos/recursecenter/hs-cli',\n",
       " 'forks_url': 'https://api.github.com/repos/recursecenter/hs-cli/forks',\n",
       " 'keys_url': 'https://api.github.com/repos/recursecenter/hs-cli/keys{/key_id}',\n",
       " 'collaborators_url': 'https://api.github.com/repos/recursecenter/hs-cli/collaborators{/collaborator}',\n",
       " 'teams_url': 'https://api.github.com/repos/recursecenter/hs-cli/teams',\n",
       " 'hooks_url': 'https://api.github.com/repos/recursecenter/hs-cli/hooks',\n",
       " 'issue_events_url': 'https://api.github.com/repos/recursecenter/hs-cli/issues/events{/number}',\n",
       " 'events_url': 'https://api.github.com/repos/recursecenter/hs-cli/events',\n",
       " 'assignees_url': 'https://api.github.com/repos/recursecenter/hs-cli/assignees{/user}',\n",
       " 'branches_url': 'https://api.github.com/repos/recursecenter/hs-cli/branches{/branch}',\n",
       " 'tags_url': 'https://api.github.com/repos/recursecenter/hs-cli/tags',\n",
       " 'blobs_url': 'https://api.github.com/repos/recursecenter/hs-cli/git/blobs{/sha}',\n",
       " 'git_tags_url': 'https://api.github.com/repos/recursecenter/hs-cli/git/tags{/sha}',\n",
       " 'git_refs_url': 'https://api.github.com/repos/recursecenter/hs-cli/git/refs{/sha}',\n",
       " 'trees_url': 'https://api.github.com/repos/recursecenter/hs-cli/git/trees{/sha}',\n",
       " 'statuses_url': 'https://api.github.com/repos/recursecenter/hs-cli/statuses/{sha}',\n",
       " 'languages_url': 'https://api.github.com/repos/recursecenter/hs-cli/languages',\n",
       " 'stargazers_url': 'https://api.github.com/repos/recursecenter/hs-cli/stargazers',\n",
       " 'contributors_url': 'https://api.github.com/repos/recursecenter/hs-cli/contributors',\n",
       " 'subscribers_url': 'https://api.github.com/repos/recursecenter/hs-cli/subscribers',\n",
       " 'subscription_url': 'https://api.github.com/repos/recursecenter/hs-cli/subscription',\n",
       " 'commits_url': 'https://api.github.com/repos/recursecenter/hs-cli/commits{/sha}',\n",
       " 'git_commits_url': 'https://api.github.com/repos/recursecenter/hs-cli/git/commits{/sha}',\n",
       " 'comments_url': 'https://api.github.com/repos/recursecenter/hs-cli/comments{/number}',\n",
       " 'issue_comment_url': 'https://api.github.com/repos/recursecenter/hs-cli/issues/comments{/number}',\n",
       " 'contents_url': 'https://api.github.com/repos/recursecenter/hs-cli/contents/{+path}',\n",
       " 'compare_url': 'https://api.github.com/repos/recursecenter/hs-cli/compare/{base}...{head}',\n",
       " 'merges_url': 'https://api.github.com/repos/recursecenter/hs-cli/merges',\n",
       " 'archive_url': 'https://api.github.com/repos/recursecenter/hs-cli/{archive_format}{/ref}',\n",
       " 'downloads_url': 'https://api.github.com/repos/recursecenter/hs-cli/downloads',\n",
       " 'issues_url': 'https://api.github.com/repos/recursecenter/hs-cli/issues{/number}',\n",
       " 'pulls_url': 'https://api.github.com/repos/recursecenter/hs-cli/pulls{/number}',\n",
       " 'milestones_url': 'https://api.github.com/repos/recursecenter/hs-cli/milestones{/number}',\n",
       " 'notifications_url': 'https://api.github.com/repos/recursecenter/hs-cli/notifications{?since,all,participating}',\n",
       " 'labels_url': 'https://api.github.com/repos/recursecenter/hs-cli/labels{/name}',\n",
       " 'releases_url': 'https://api.github.com/repos/recursecenter/hs-cli/releases{/id}',\n",
       " 'deployments_url': 'https://api.github.com/repos/recursecenter/hs-cli/deployments',\n",
       " 'created_at': '2013-01-31T22:27:45Z',\n",
       " 'updated_at': '2015-12-25T20:36:02Z',\n",
       " 'pushed_at': '2014-03-16T14:21:27Z',\n",
       " 'git_url': 'git://github.com/recursecenter/hs-cli.git',\n",
       " 'ssh_url': 'git@github.com:recursecenter/hs-cli.git',\n",
       " 'clone_url': 'https://github.com/recursecenter/hs-cli.git',\n",
       " 'svn_url': 'https://github.com/recursecenter/hs-cli',\n",
       " 'homepage': '',\n",
       " 'size': 268,\n",
       " 'stargazers_count': 6,\n",
       " 'watchers_count': 6,\n",
       " 'language': 'Ruby',\n",
       " 'has_issues': True,\n",
       " 'has_projects': True,\n",
       " 'has_downloads': True,\n",
       " 'has_wiki': True,\n",
       " 'has_pages': False,\n",
       " 'forks_count': 2,\n",
       " 'mirror_url': None,\n",
       " 'archived': False,\n",
       " 'open_issues_count': 4,\n",
       " 'license': {'key': 'gpl-3.0',\n",
       "  'name': 'GNU General Public License v3.0',\n",
       "  'spdx_id': 'GPL-3.0',\n",
       "  'url': 'https://api.github.com/licenses/gpl-3.0',\n",
       "  'node_id': 'MDc6TGljZW5zZTk='},\n",
       " 'forks': 2,\n",
       " 'open_issues': 4,\n",
       " 'watchers': 6,\n",
       " 'default_branch': 'master',\n",
       " 'permissions': {'admin': False, 'push': False, 'pull': True}}"
      ]
     },
     "execution_count": 46,
     "metadata": {},
     "output_type": "execute_result"
    }
   ],
   "source": [
    "recurse[0]"
   ]
  },
  {
   "cell_type": "code",
   "execution_count": 5,
   "metadata": {},
   "outputs": [
    {
     "name": "stdout",
     "output_type": "stream",
     "text": [
      "hs-cli\n",
      "webstack.jl\n",
      "blaggregator\n",
      "community\n",
      "terminal_snake\n",
      "sprockets-commonjs\n",
      "proxy\n",
      "eventmachine\n",
      "heroku-buildpack-ruby\n",
      "sprockets\n",
      "recurse-lisp-workshop\n",
      "RSVPBot\n",
      "ca-tools\n",
      "coding-bee\n"
     ]
    }
   ],
   "source": [
    "# Repos are labelled by attribute 'name'\n",
    "for i in range(0,len(recurse)):\n",
    "    print(recurse[i]['name'])"
   ]
  },
  {
   "cell_type": "code",
   "execution_count": 47,
   "metadata": {},
   "outputs": [
    {
     "data": {
      "text/plain": [
       "'https://api.github.com/repos/recursecenter/blaggregator/contributors'"
      ]
     },
     "execution_count": 47,
     "metadata": {},
     "output_type": "execute_result"
    }
   ],
   "source": [
    "# There is also a property 'contributors_URL' for each. Let's look at blaggregator, index 2.\n",
    "recurse[2]['contributors_url']"
   ]
  },
  {
   "cell_type": "markdown",
   "metadata": {},
   "source": [
    "Next step:\n",
    "\n",
    "- use requests to hit that url\n",
    "- find out how many commits for each person (number, lines of code)\n",
    "- get additional details of each user listed (name, email, etc.)"
   ]
  },
  {
   "cell_type": "code",
   "execution_count": 54,
   "metadata": {},
   "outputs": [],
   "source": [
    "# %load get_contributors.py\n",
    "headers = {'Content-Type': 'application/json',\n",
    "           'User-Agent': 'Python Student',\n",
    "           'Accept': 'application/vnd.github.v3+json'}\n",
    "\n",
    "# URL format:\n",
    "# https://api.github.com/repos/recursecenter/blaggregator/contributors\n",
    "\n",
    "def get_contributors(repo):\n",
    "    name = repo['name']\n",
    "    contrib_url = repo['contributors_url']\n",
    "    \n",
    "    response = requests.get(contrib_url, headers=headers)\n",
    "\n",
    "    if response.status_code == 200:\n",
    "        return (\n",
    "            {'name': name,\n",
    "             'contributions': response.json()}\n",
    "        )\n",
    "    else:\n",
    "        print('[!] HTTP {0} calling repo [{1}]'.format(response.status_code, contrib_url))\n",
    "        return None"
   ]
  },
  {
   "cell_type": "code",
   "execution_count": 65,
   "metadata": {},
   "outputs": [],
   "source": [
    "blag_contributors = get_contributors(recurse[2])"
   ]
  },
  {
   "cell_type": "code",
   "execution_count": 66,
   "metadata": {},
   "outputs": [
    {
     "name": "stdout",
     "output_type": "stream",
     "text": [
      "blaggregator\n",
      "{'login': 'sursh', 'id': 719590, 'node_id': 'MDQ6VXNlcjcxOTU5MA==', 'avatar_url': 'https://avatars1.githubusercontent.com/u/719590?v=4', 'gravatar_id': '', 'url': 'https://api.github.com/users/sursh', 'html_url': 'https://github.com/sursh', 'followers_url': 'https://api.github.com/users/sursh/followers', 'following_url': 'https://api.github.com/users/sursh/following{/other_user}', 'gists_url': 'https://api.github.com/users/sursh/gists{/gist_id}', 'starred_url': 'https://api.github.com/users/sursh/starred{/owner}{/repo}', 'subscriptions_url': 'https://api.github.com/users/sursh/subscriptions', 'organizations_url': 'https://api.github.com/users/sursh/orgs', 'repos_url': 'https://api.github.com/users/sursh/repos', 'events_url': 'https://api.github.com/users/sursh/events{/privacy}', 'received_events_url': 'https://api.github.com/users/sursh/received_events', 'type': 'User', 'site_admin': False, 'contributions': 278}\n",
      "18\n"
     ]
    }
   ],
   "source": [
    "print(blag_contributors['name'])\n",
    "print(blag_contributors['contributions'][0])\n",
    "print(len(blag_contributors['contributions']))"
   ]
  },
  {
   "cell_type": "code",
   "execution_count": 67,
   "metadata": {},
   "outputs": [
    {
     "name": "stdout",
     "output_type": "stream",
     "text": [
      "[{'repo': 'blaggregator', 'username': 'sursh', 'contributions': 278}, {'repo': 'blaggregator', 'username': 'punchagan', 'contributions': 249}, {'repo': 'blaggregator', 'username': 'davidbalbert', 'contributions': 12}, {'repo': 'blaggregator', 'username': 'kenyavs', 'contributions': 10}, {'repo': 'blaggregator', 'username': 'stanzheng', 'contributions': 5}, {'repo': 'blaggregator', 'username': 'akaptur', 'contributions': 3}, {'repo': 'blaggregator', 'username': 'porterjamesj', 'contributions': 3}, {'repo': 'blaggregator', 'username': 'santialbo', 'contributions': 3}, {'repo': 'blaggregator', 'username': 'strugee', 'contributions': 2}, {'repo': 'blaggregator', 'username': 'danluu', 'contributions': 2}, {'repo': 'blaggregator', 'username': 'PuercoPop', 'contributions': 2}, {'repo': 'blaggregator', 'username': 'pnf', 'contributions': 2}, {'repo': 'blaggregator', 'username': 'alliejones', 'contributions': 1}, {'repo': 'blaggregator', 'username': 'nnja', 'contributions': 1}, {'repo': 'blaggregator', 'username': 'graue', 'contributions': 1}, {'repo': 'blaggregator', 'username': 'thomasboyt', 'contributions': 1}, {'repo': 'blaggregator', 'username': 'zachallaun', 'contributions': 1}, {'repo': 'blaggregator', 'username': 'esommer', 'contributions': 1}]\n"
     ]
    }
   ],
   "source": [
    "# Build into a dict:\n",
    "\n",
    "all_repo_contributions = list()\n",
    "\n",
    "for i in range(0,len(blag_contributors['contributions'])):\n",
    "    contributions = dict()\n",
    "    contributions[\"repo\"] = blag_contributors['name'] # should come from variable in real thing\n",
    "    contributions[\"username\"] = blag_contributors['contributions'][i]['login']\n",
    "    contributions[\"contributions\"] = blag_contributors['contributions'][i]['contributions']\n",
    "    all_repo_contributions.append(contributions)\n",
    "    \n",
    "print(all_repo_contributions)"
   ]
  },
  {
   "cell_type": "code",
   "execution_count": 40,
   "metadata": {},
   "outputs": [
    {
     "data": {
      "text/html": [
       "<div>\n",
       "<style scoped>\n",
       "    .dataframe tbody tr th:only-of-type {\n",
       "        vertical-align: middle;\n",
       "    }\n",
       "\n",
       "    .dataframe tbody tr th {\n",
       "        vertical-align: top;\n",
       "    }\n",
       "\n",
       "    .dataframe thead th {\n",
       "        text-align: right;\n",
       "    }\n",
       "</style>\n",
       "<table border=\"1\" class=\"dataframe\">\n",
       "  <thead>\n",
       "    <tr style=\"text-align: right;\">\n",
       "      <th></th>\n",
       "      <th>contributions</th>\n",
       "      <th>repo</th>\n",
       "      <th>username</th>\n",
       "    </tr>\n",
       "  </thead>\n",
       "  <tbody>\n",
       "    <tr>\n",
       "      <th>0</th>\n",
       "      <td>278</td>\n",
       "      <td>blaggregator</td>\n",
       "      <td>sursh</td>\n",
       "    </tr>\n",
       "    <tr>\n",
       "      <th>1</th>\n",
       "      <td>249</td>\n",
       "      <td>blaggregator</td>\n",
       "      <td>punchagan</td>\n",
       "    </tr>\n",
       "    <tr>\n",
       "      <th>2</th>\n",
       "      <td>12</td>\n",
       "      <td>blaggregator</td>\n",
       "      <td>davidbalbert</td>\n",
       "    </tr>\n",
       "    <tr>\n",
       "      <th>3</th>\n",
       "      <td>10</td>\n",
       "      <td>blaggregator</td>\n",
       "      <td>kenyavs</td>\n",
       "    </tr>\n",
       "    <tr>\n",
       "      <th>4</th>\n",
       "      <td>5</td>\n",
       "      <td>blaggregator</td>\n",
       "      <td>stanzheng</td>\n",
       "    </tr>\n",
       "    <tr>\n",
       "      <th>5</th>\n",
       "      <td>3</td>\n",
       "      <td>blaggregator</td>\n",
       "      <td>akaptur</td>\n",
       "    </tr>\n",
       "    <tr>\n",
       "      <th>6</th>\n",
       "      <td>3</td>\n",
       "      <td>blaggregator</td>\n",
       "      <td>porterjamesj</td>\n",
       "    </tr>\n",
       "    <tr>\n",
       "      <th>7</th>\n",
       "      <td>3</td>\n",
       "      <td>blaggregator</td>\n",
       "      <td>santialbo</td>\n",
       "    </tr>\n",
       "    <tr>\n",
       "      <th>8</th>\n",
       "      <td>2</td>\n",
       "      <td>blaggregator</td>\n",
       "      <td>strugee</td>\n",
       "    </tr>\n",
       "    <tr>\n",
       "      <th>9</th>\n",
       "      <td>2</td>\n",
       "      <td>blaggregator</td>\n",
       "      <td>danluu</td>\n",
       "    </tr>\n",
       "    <tr>\n",
       "      <th>10</th>\n",
       "      <td>2</td>\n",
       "      <td>blaggregator</td>\n",
       "      <td>PuercoPop</td>\n",
       "    </tr>\n",
       "    <tr>\n",
       "      <th>11</th>\n",
       "      <td>2</td>\n",
       "      <td>blaggregator</td>\n",
       "      <td>pnf</td>\n",
       "    </tr>\n",
       "    <tr>\n",
       "      <th>12</th>\n",
       "      <td>1</td>\n",
       "      <td>blaggregator</td>\n",
       "      <td>alliejones</td>\n",
       "    </tr>\n",
       "    <tr>\n",
       "      <th>13</th>\n",
       "      <td>1</td>\n",
       "      <td>blaggregator</td>\n",
       "      <td>nnja</td>\n",
       "    </tr>\n",
       "    <tr>\n",
       "      <th>14</th>\n",
       "      <td>1</td>\n",
       "      <td>blaggregator</td>\n",
       "      <td>graue</td>\n",
       "    </tr>\n",
       "    <tr>\n",
       "      <th>15</th>\n",
       "      <td>1</td>\n",
       "      <td>blaggregator</td>\n",
       "      <td>thomasboyt</td>\n",
       "    </tr>\n",
       "    <tr>\n",
       "      <th>16</th>\n",
       "      <td>1</td>\n",
       "      <td>blaggregator</td>\n",
       "      <td>zachallaun</td>\n",
       "    </tr>\n",
       "    <tr>\n",
       "      <th>17</th>\n",
       "      <td>1</td>\n",
       "      <td>blaggregator</td>\n",
       "      <td>esommer</td>\n",
       "    </tr>\n",
       "  </tbody>\n",
       "</table>\n",
       "</div>"
      ],
      "text/plain": [
       "    contributions          repo      username\n",
       "0             278  blaggregator         sursh\n",
       "1             249  blaggregator     punchagan\n",
       "2              12  blaggregator  davidbalbert\n",
       "3              10  blaggregator       kenyavs\n",
       "4               5  blaggregator     stanzheng\n",
       "5               3  blaggregator       akaptur\n",
       "6               3  blaggregator  porterjamesj\n",
       "7               3  blaggregator     santialbo\n",
       "8               2  blaggregator       strugee\n",
       "9               2  blaggregator        danluu\n",
       "10              2  blaggregator     PuercoPop\n",
       "11              2  blaggregator           pnf\n",
       "12              1  blaggregator    alliejones\n",
       "13              1  blaggregator          nnja\n",
       "14              1  blaggregator         graue\n",
       "15              1  blaggregator    thomasboyt\n",
       "16              1  blaggregator    zachallaun\n",
       "17              1  blaggregator       esommer"
      ]
     },
     "execution_count": 40,
     "metadata": {},
     "output_type": "execute_result"
    }
   ],
   "source": [
    "pd.DataFrame.from_dict(all_repo_contributions)"
   ]
  },
  {
   "cell_type": "markdown",
   "metadata": {},
   "source": [
    "=> Let's build a list with more than one repo to see what we need to change."
   ]
  },
  {
   "cell_type": "code",
   "execution_count": null,
   "metadata": {},
   "outputs": [],
   "source": [
    "def build_contribution_list(repo, contributors):\n",
    "    all_repo_contributions = list()\n",
    "\n",
    "    for i in range(0,len(contributors)):\n",
    "        contributions = dict()\n",
    "        contributions[\"repo\"] = repo # should come from variable in real thing\n",
    "        contributions[\"username\"] = contributors[i]['login']\n",
    "        contributions[\"contributions\"] = contributors[i]['contributions']\n",
    "        all_repo_contributions.append(contributions)\n",
    "        return all_repo_contributions"
   ]
  },
  {
   "cell_type": "markdown",
   "metadata": {},
   "source": [
    "=> Need to think how to factor in pull requests - do these become 'contributors' or is there another way they are listed?"
   ]
  },
  {
   "cell_type": "markdown",
   "metadata": {},
   "source": [
    "## Make a script from the above functions:"
   ]
  },
  {
   "cell_type": "code",
   "execution_count": 70,
   "metadata": {},
   "outputs": [],
   "source": [
    "# %load get_repo_contributions.py\n",
    "\n",
    "api_url_base = 'https://api.github.com/'\n",
    "headers = {'Content-Type': 'application/json',\n",
    "           'User-Agent': 'Python Student',\n",
    "           'Accept': 'application/vnd.github.v3+json'}\n",
    "\n",
    "def get_repos(orgname):\n",
    "    api_url = '{}orgs/{}/repos'.format(api_url_base, orgname)\n",
    "\n",
    "    response = requests.get(api_url, headers=headers)\n",
    "\n",
    "    if response.status_code == 200:\n",
    "        return (response.json())\n",
    "    else:\n",
    "        print('[!] HTTP {0} calling [{1}]'.format(response.status_code, api_url))\n",
    "        return None\n",
    "\n",
    "\n",
    "def get_contributors(repo):\n",
    "    name = repo['name']\n",
    "    contrib_url = repo['contributors_url']\n",
    "    \n",
    "    response = requests.get(contrib_url, headers=headers)\n",
    "\n",
    "    if response.status_code == 200:\n",
    "        return (\n",
    "            # returns `contribution_response`\n",
    "            {'name': name,\n",
    "             'data': response.json()}\n",
    "        )\n",
    "    else:\n",
    "        print('[!] HTTP {0} calling repo [{1}]'.format(response.status_code, contrib_url))\n",
    "        return None\n",
    "\n",
    "\n",
    "def build_contribution_list(contribution_response):\n",
    "    all_repo_contributions = list()\n",
    "\n",
    "    for i in range(0,len(contribution_response['data'])):\n",
    "        ctr = dict()\n",
    "        ctr[\"repo\"] = contribution_response['name']\n",
    "        ctr[\"username\"] = contribution_response['data'][i]['login']\n",
    "        ctr[\"contributions\"] = contribution_response['data'][i]['contributions']\n",
    "        all_repo_contributions.append(ctr)\n",
    "        return all_repo_contributions\n",
    "\n",
    "\n",
    "def get_all_contributions(org):\n",
    "    all_org_contributions = list()\n",
    "\n",
    "    repos = get_repos(org)\n",
    "\n",
    "    for repo in repos:\n",
    "        contributors = get_contributors(repo)\n",
    "        contribution_list = build_contribution_list(contributors)\n",
    "        all_org_contributions.append(contribution_list)\n"
   ]
  },
  {
   "cell_type": "code",
   "execution_count": 71,
   "metadata": {},
   "outputs": [],
   "source": [
    "get_all_contributions('recursecenter')"
   ]
  },
  {
   "cell_type": "code",
   "execution_count": null,
   "metadata": {},
   "outputs": [],
   "source": []
  }
 ],
 "metadata": {
  "kernelspec": {
   "display_name": "Python (scraper)",
   "language": "python",
   "name": "scraper"
  },
  "language_info": {
   "codemirror_mode": {
    "name": "ipython",
    "version": 3
   },
   "file_extension": ".py",
   "mimetype": "text/x-python",
   "name": "python",
   "nbconvert_exporter": "python",
   "pygments_lexer": "ipython3",
   "version": "3.7.1"
  }
 },
 "nbformat": 4,
 "nbformat_minor": 2
}
