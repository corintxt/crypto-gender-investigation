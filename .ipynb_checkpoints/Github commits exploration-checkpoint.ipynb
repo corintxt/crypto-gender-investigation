{
 "cells": [
  {
   "cell_type": "code",
   "execution_count": 2,
   "metadata": {},
   "outputs": [],
   "source": [
    "# Imports\n",
    "import pandas as pd\n",
    "import numpy as np\n",
    "import matplotlib.pyplot as plt\n",
    "import seaborn as sns\n",
    "%matplotlib inline\n",
    "\n",
    "from urllib.request import urlopen\n",
    "from bs4 import BeautifulSoup"
   ]
  },
  {
   "cell_type": "markdown",
   "metadata": {},
   "source": [
    "Load the script: `%load first-git-script.py`"
   ]
  },
  {
   "cell_type": "code",
   "execution_count": 8,
   "metadata": {},
   "outputs": [],
   "source": [
    "# Basic script to get list of repos for given organization\n",
    "\n",
    "# %load first-git-script.py\n",
    "import json\n",
    "import requests\n",
    "\n",
    "api_url_base = 'https://api.github.com/'\n",
    "headers = {'Content-Type': 'application/json',\n",
    "           'User-Agent': 'Python Student',\n",
    "           'Accept': 'application/vnd.github.v3+json'}\n",
    "\n",
    "def get_repos(username):\n",
    "\n",
    "    api_url = '{}orgs/{}/repos'.format(api_url_base, username)\n",
    "\n",
    "    response = requests.get(api_url, headers=headers)\n",
    "\n",
    "    if response.status_code == 200:\n",
    "        return (response.json())\n",
    "    else:\n",
    "        print('[!] HTTP {0} calling [{1}]'.format(response.status_code, api_url))\n",
    "        return None"
   ]
  },
  {
   "cell_type": "code",
   "execution_count": 4,
   "metadata": {},
   "outputs": [],
   "source": [
    "recurse = get_repos('recursecenter')"
   ]
  },
  {
   "cell_type": "code",
   "execution_count": 46,
   "metadata": {},
   "outputs": [
    {
     "data": {
      "text/plain": [
       "{'id': 7947018,\n",
       " 'node_id': 'MDEwOlJlcG9zaXRvcnk3OTQ3MDE4',\n",
       " 'name': 'hs-cli',\n",
       " 'full_name': 'recursecenter/hs-cli',\n",
       " 'private': False,\n",
       " 'owner': {'login': 'recursecenter',\n",
       "  'id': 1085202,\n",
       "  'node_id': 'MDEyOk9yZ2FuaXphdGlvbjEwODUyMDI=',\n",
       "  'avatar_url': 'https://avatars2.githubusercontent.com/u/1085202?v=4',\n",
       "  'gravatar_id': '',\n",
       "  'url': 'https://api.github.com/users/recursecenter',\n",
       "  'html_url': 'https://github.com/recursecenter',\n",
       "  'followers_url': 'https://api.github.com/users/recursecenter/followers',\n",
       "  'following_url': 'https://api.github.com/users/recursecenter/following{/other_user}',\n",
       "  'gists_url': 'https://api.github.com/users/recursecenter/gists{/gist_id}',\n",
       "  'starred_url': 'https://api.github.com/users/recursecenter/starred{/owner}{/repo}',\n",
       "  'subscriptions_url': 'https://api.github.com/users/recursecenter/subscriptions',\n",
       "  'organizations_url': 'https://api.github.com/users/recursecenter/orgs',\n",
       "  'repos_url': 'https://api.github.com/users/recursecenter/repos',\n",
       "  'events_url': 'https://api.github.com/users/recursecenter/events{/privacy}',\n",
       "  'received_events_url': 'https://api.github.com/users/recursecenter/received_events',\n",
       "  'type': 'Organization',\n",
       "  'site_admin': False},\n",
       " 'html_url': 'https://github.com/recursecenter/hs-cli',\n",
       " 'description': 'UNMAINTAINED – Hacker School command line tool',\n",
       " 'fork': False,\n",
       " 'url': 'https://api.github.com/repos/recursecenter/hs-cli',\n",
       " 'forks_url': 'https://api.github.com/repos/recursecenter/hs-cli/forks',\n",
       " 'keys_url': 'https://api.github.com/repos/recursecenter/hs-cli/keys{/key_id}',\n",
       " 'collaborators_url': 'https://api.github.com/repos/recursecenter/hs-cli/collaborators{/collaborator}',\n",
       " 'teams_url': 'https://api.github.com/repos/recursecenter/hs-cli/teams',\n",
       " 'hooks_url': 'https://api.github.com/repos/recursecenter/hs-cli/hooks',\n",
       " 'issue_events_url': 'https://api.github.com/repos/recursecenter/hs-cli/issues/events{/number}',\n",
       " 'events_url': 'https://api.github.com/repos/recursecenter/hs-cli/events',\n",
       " 'assignees_url': 'https://api.github.com/repos/recursecenter/hs-cli/assignees{/user}',\n",
       " 'branches_url': 'https://api.github.com/repos/recursecenter/hs-cli/branches{/branch}',\n",
       " 'tags_url': 'https://api.github.com/repos/recursecenter/hs-cli/tags',\n",
       " 'blobs_url': 'https://api.github.com/repos/recursecenter/hs-cli/git/blobs{/sha}',\n",
       " 'git_tags_url': 'https://api.github.com/repos/recursecenter/hs-cli/git/tags{/sha}',\n",
       " 'git_refs_url': 'https://api.github.com/repos/recursecenter/hs-cli/git/refs{/sha}',\n",
       " 'trees_url': 'https://api.github.com/repos/recursecenter/hs-cli/git/trees{/sha}',\n",
       " 'statuses_url': 'https://api.github.com/repos/recursecenter/hs-cli/statuses/{sha}',\n",
       " 'languages_url': 'https://api.github.com/repos/recursecenter/hs-cli/languages',\n",
       " 'stargazers_url': 'https://api.github.com/repos/recursecenter/hs-cli/stargazers',\n",
       " 'contributors_url': 'https://api.github.com/repos/recursecenter/hs-cli/contributors',\n",
       " 'subscribers_url': 'https://api.github.com/repos/recursecenter/hs-cli/subscribers',\n",
       " 'subscription_url': 'https://api.github.com/repos/recursecenter/hs-cli/subscription',\n",
       " 'commits_url': 'https://api.github.com/repos/recursecenter/hs-cli/commits{/sha}',\n",
       " 'git_commits_url': 'https://api.github.com/repos/recursecenter/hs-cli/git/commits{/sha}',\n",
       " 'comments_url': 'https://api.github.com/repos/recursecenter/hs-cli/comments{/number}',\n",
       " 'issue_comment_url': 'https://api.github.com/repos/recursecenter/hs-cli/issues/comments{/number}',\n",
       " 'contents_url': 'https://api.github.com/repos/recursecenter/hs-cli/contents/{+path}',\n",
       " 'compare_url': 'https://api.github.com/repos/recursecenter/hs-cli/compare/{base}...{head}',\n",
       " 'merges_url': 'https://api.github.com/repos/recursecenter/hs-cli/merges',\n",
       " 'archive_url': 'https://api.github.com/repos/recursecenter/hs-cli/{archive_format}{/ref}',\n",
       " 'downloads_url': 'https://api.github.com/repos/recursecenter/hs-cli/downloads',\n",
       " 'issues_url': 'https://api.github.com/repos/recursecenter/hs-cli/issues{/number}',\n",
       " 'pulls_url': 'https://api.github.com/repos/recursecenter/hs-cli/pulls{/number}',\n",
       " 'milestones_url': 'https://api.github.com/repos/recursecenter/hs-cli/milestones{/number}',\n",
       " 'notifications_url': 'https://api.github.com/repos/recursecenter/hs-cli/notifications{?since,all,participating}',\n",
       " 'labels_url': 'https://api.github.com/repos/recursecenter/hs-cli/labels{/name}',\n",
       " 'releases_url': 'https://api.github.com/repos/recursecenter/hs-cli/releases{/id}',\n",
       " 'deployments_url': 'https://api.github.com/repos/recursecenter/hs-cli/deployments',\n",
       " 'created_at': '2013-01-31T22:27:45Z',\n",
       " 'updated_at': '2015-12-25T20:36:02Z',\n",
       " 'pushed_at': '2014-03-16T14:21:27Z',\n",
       " 'git_url': 'git://github.com/recursecenter/hs-cli.git',\n",
       " 'ssh_url': 'git@github.com:recursecenter/hs-cli.git',\n",
       " 'clone_url': 'https://github.com/recursecenter/hs-cli.git',\n",
       " 'svn_url': 'https://github.com/recursecenter/hs-cli',\n",
       " 'homepage': '',\n",
       " 'size': 268,\n",
       " 'stargazers_count': 6,\n",
       " 'watchers_count': 6,\n",
       " 'language': 'Ruby',\n",
       " 'has_issues': True,\n",
       " 'has_projects': True,\n",
       " 'has_downloads': True,\n",
       " 'has_wiki': True,\n",
       " 'has_pages': False,\n",
       " 'forks_count': 2,\n",
       " 'mirror_url': None,\n",
       " 'archived': False,\n",
       " 'open_issues_count': 4,\n",
       " 'license': {'key': 'gpl-3.0',\n",
       "  'name': 'GNU General Public License v3.0',\n",
       "  'spdx_id': 'GPL-3.0',\n",
       "  'url': 'https://api.github.com/licenses/gpl-3.0',\n",
       "  'node_id': 'MDc6TGljZW5zZTk='},\n",
       " 'forks': 2,\n",
       " 'open_issues': 4,\n",
       " 'watchers': 6,\n",
       " 'default_branch': 'master',\n",
       " 'permissions': {'admin': False, 'push': False, 'pull': True}}"
      ]
     },
     "execution_count": 46,
     "metadata": {},
     "output_type": "execute_result"
    }
   ],
   "source": [
    "recurse[0]"
   ]
  },
  {
   "cell_type": "code",
   "execution_count": 5,
   "metadata": {},
   "outputs": [
    {
     "name": "stdout",
     "output_type": "stream",
     "text": [
      "hs-cli\n",
      "webstack.jl\n",
      "blaggregator\n",
      "community\n",
      "terminal_snake\n",
      "sprockets-commonjs\n",
      "proxy\n",
      "eventmachine\n",
      "heroku-buildpack-ruby\n",
      "sprockets\n",
      "recurse-lisp-workshop\n",
      "RSVPBot\n",
      "ca-tools\n",
      "coding-bee\n"
     ]
    }
   ],
   "source": [
    "# Repos are labelled by attribute 'name'\n",
    "for i in range(0,len(recurse)):\n",
    "    print(recurse[i]['name'])"
   ]
  },
  {
   "cell_type": "code",
   "execution_count": 47,
   "metadata": {},
   "outputs": [
    {
     "data": {
      "text/plain": [
       "'https://api.github.com/repos/recursecenter/blaggregator/contributors'"
      ]
     },
     "execution_count": 47,
     "metadata": {},
     "output_type": "execute_result"
    }
   ],
   "source": [
    "# There is also a property 'contributors_URL' for each. Let's look at blaggregator, index 2.\n",
    "recurse[2]['contributors_url']"
   ]
  },
  {
   "cell_type": "markdown",
   "metadata": {},
   "source": [
    "Next step:\n",
    "\n",
    "- use requests to hit that url\n",
    "- find out how many commits for each person (number, lines of code)\n",
    "- get additional details of each user listed (name, email, etc.)"
   ]
  },
  {
   "cell_type": "code",
   "execution_count": 54,
   "metadata": {},
   "outputs": [],
   "source": [
    "# %load get_contributors.py\n",
    "headers = {'Content-Type': 'application/json',\n",
    "           'User-Agent': 'Python Student',\n",
    "           'Accept': 'application/vnd.github.v3+json'}\n",
    "\n",
    "# URL format:\n",
    "# https://api.github.com/repos/recursecenter/blaggregator/contributors\n",
    "\n",
    "def get_contributors(repo):\n",
    "    name = repo['name']\n",
    "    contrib_url = repo['contributors_url']\n",
    "    \n",
    "    response = requests.get(contrib_url, headers=headers)\n",
    "\n",
    "    if response.status_code == 200:\n",
    "        return (\n",
    "            {'name': name,\n",
    "             'contributions': response.json()}\n",
    "        )\n",
    "    else:\n",
    "        print('[!] HTTP {0} calling repo [{1}]'.format(response.status_code, contrib_url))\n",
    "        return None"
   ]
  },
  {
   "cell_type": "code",
   "execution_count": 65,
   "metadata": {},
   "outputs": [],
   "source": [
    "blag_contributors = get_contributors(recurse[2])"
   ]
  },
  {
   "cell_type": "code",
   "execution_count": 66,
   "metadata": {},
   "outputs": [
    {
     "name": "stdout",
     "output_type": "stream",
     "text": [
      "blaggregator\n",
      "{'login': 'sursh', 'id': 719590, 'node_id': 'MDQ6VXNlcjcxOTU5MA==', 'avatar_url': 'https://avatars1.githubusercontent.com/u/719590?v=4', 'gravatar_id': '', 'url': 'https://api.github.com/users/sursh', 'html_url': 'https://github.com/sursh', 'followers_url': 'https://api.github.com/users/sursh/followers', 'following_url': 'https://api.github.com/users/sursh/following{/other_user}', 'gists_url': 'https://api.github.com/users/sursh/gists{/gist_id}', 'starred_url': 'https://api.github.com/users/sursh/starred{/owner}{/repo}', 'subscriptions_url': 'https://api.github.com/users/sursh/subscriptions', 'organizations_url': 'https://api.github.com/users/sursh/orgs', 'repos_url': 'https://api.github.com/users/sursh/repos', 'events_url': 'https://api.github.com/users/sursh/events{/privacy}', 'received_events_url': 'https://api.github.com/users/sursh/received_events', 'type': 'User', 'site_admin': False, 'contributions': 278}\n",
      "18\n"
     ]
    }
   ],
   "source": [
    "print(blag_contributors['name'])\n",
    "print(blag_contributors['contributions'][0])\n",
    "print(len(blag_contributors['contributions']))"
   ]
  },
  {
   "cell_type": "code",
   "execution_count": 67,
   "metadata": {},
   "outputs": [
    {
     "name": "stdout",
     "output_type": "stream",
     "text": [
      "[{'repo': 'blaggregator', 'username': 'sursh', 'contributions': 278}, {'repo': 'blaggregator', 'username': 'punchagan', 'contributions': 249}, {'repo': 'blaggregator', 'username': 'davidbalbert', 'contributions': 12}, {'repo': 'blaggregator', 'username': 'kenyavs', 'contributions': 10}, {'repo': 'blaggregator', 'username': 'stanzheng', 'contributions': 5}, {'repo': 'blaggregator', 'username': 'akaptur', 'contributions': 3}, {'repo': 'blaggregator', 'username': 'porterjamesj', 'contributions': 3}, {'repo': 'blaggregator', 'username': 'santialbo', 'contributions': 3}, {'repo': 'blaggregator', 'username': 'strugee', 'contributions': 2}, {'repo': 'blaggregator', 'username': 'danluu', 'contributions': 2}, {'repo': 'blaggregator', 'username': 'PuercoPop', 'contributions': 2}, {'repo': 'blaggregator', 'username': 'pnf', 'contributions': 2}, {'repo': 'blaggregator', 'username': 'alliejones', 'contributions': 1}, {'repo': 'blaggregator', 'username': 'nnja', 'contributions': 1}, {'repo': 'blaggregator', 'username': 'graue', 'contributions': 1}, {'repo': 'blaggregator', 'username': 'thomasboyt', 'contributions': 1}, {'repo': 'blaggregator', 'username': 'zachallaun', 'contributions': 1}, {'repo': 'blaggregator', 'username': 'esommer', 'contributions': 1}]\n"
     ]
    }
   ],
   "source": [
    "# Build into a dict:\n",
    "\n",
    "all_repo_contributions = list()\n",
    "\n",
    "for i in range(0,len(blag_contributors['contributions'])):\n",
    "    contributions = dict()\n",
    "    contributions[\"repo\"] = blag_contributors['name'] # should come from variable in real thing\n",
    "    contributions[\"username\"] = blag_contributors['contributions'][i]['login']\n",
    "    contributions[\"contributions\"] = blag_contributors['contributions'][i]['contributions']\n",
    "    all_repo_contributions.append(contributions)\n",
    "    \n",
    "print(all_repo_contributions)"
   ]
  },
  {
   "cell_type": "code",
   "execution_count": 40,
   "metadata": {},
   "outputs": [
    {
     "data": {
      "text/html": [
       "<div>\n",
       "<style scoped>\n",
       "    .dataframe tbody tr th:only-of-type {\n",
       "        vertical-align: middle;\n",
       "    }\n",
       "\n",
       "    .dataframe tbody tr th {\n",
       "        vertical-align: top;\n",
       "    }\n",
       "\n",
       "    .dataframe thead th {\n",
       "        text-align: right;\n",
       "    }\n",
       "</style>\n",
       "<table border=\"1\" class=\"dataframe\">\n",
       "  <thead>\n",
       "    <tr style=\"text-align: right;\">\n",
       "      <th></th>\n",
       "      <th>contributions</th>\n",
       "      <th>repo</th>\n",
       "      <th>username</th>\n",
       "    </tr>\n",
       "  </thead>\n",
       "  <tbody>\n",
       "    <tr>\n",
       "      <th>0</th>\n",
       "      <td>278</td>\n",
       "      <td>blaggregator</td>\n",
       "      <td>sursh</td>\n",
       "    </tr>\n",
       "    <tr>\n",
       "      <th>1</th>\n",
       "      <td>249</td>\n",
       "      <td>blaggregator</td>\n",
       "      <td>punchagan</td>\n",
       "    </tr>\n",
       "    <tr>\n",
       "      <th>2</th>\n",
       "      <td>12</td>\n",
       "      <td>blaggregator</td>\n",
       "      <td>davidbalbert</td>\n",
       "    </tr>\n",
       "    <tr>\n",
       "      <th>3</th>\n",
       "      <td>10</td>\n",
       "      <td>blaggregator</td>\n",
       "      <td>kenyavs</td>\n",
       "    </tr>\n",
       "    <tr>\n",
       "      <th>4</th>\n",
       "      <td>5</td>\n",
       "      <td>blaggregator</td>\n",
       "      <td>stanzheng</td>\n",
       "    </tr>\n",
       "    <tr>\n",
       "      <th>5</th>\n",
       "      <td>3</td>\n",
       "      <td>blaggregator</td>\n",
       "      <td>akaptur</td>\n",
       "    </tr>\n",
       "    <tr>\n",
       "      <th>6</th>\n",
       "      <td>3</td>\n",
       "      <td>blaggregator</td>\n",
       "      <td>porterjamesj</td>\n",
       "    </tr>\n",
       "    <tr>\n",
       "      <th>7</th>\n",
       "      <td>3</td>\n",
       "      <td>blaggregator</td>\n",
       "      <td>santialbo</td>\n",
       "    </tr>\n",
       "    <tr>\n",
       "      <th>8</th>\n",
       "      <td>2</td>\n",
       "      <td>blaggregator</td>\n",
       "      <td>strugee</td>\n",
       "    </tr>\n",
       "    <tr>\n",
       "      <th>9</th>\n",
       "      <td>2</td>\n",
       "      <td>blaggregator</td>\n",
       "      <td>danluu</td>\n",
       "    </tr>\n",
       "    <tr>\n",
       "      <th>10</th>\n",
       "      <td>2</td>\n",
       "      <td>blaggregator</td>\n",
       "      <td>PuercoPop</td>\n",
       "    </tr>\n",
       "    <tr>\n",
       "      <th>11</th>\n",
       "      <td>2</td>\n",
       "      <td>blaggregator</td>\n",
       "      <td>pnf</td>\n",
       "    </tr>\n",
       "    <tr>\n",
       "      <th>12</th>\n",
       "      <td>1</td>\n",
       "      <td>blaggregator</td>\n",
       "      <td>alliejones</td>\n",
       "    </tr>\n",
       "    <tr>\n",
       "      <th>13</th>\n",
       "      <td>1</td>\n",
       "      <td>blaggregator</td>\n",
       "      <td>nnja</td>\n",
       "    </tr>\n",
       "    <tr>\n",
       "      <th>14</th>\n",
       "      <td>1</td>\n",
       "      <td>blaggregator</td>\n",
       "      <td>graue</td>\n",
       "    </tr>\n",
       "    <tr>\n",
       "      <th>15</th>\n",
       "      <td>1</td>\n",
       "      <td>blaggregator</td>\n",
       "      <td>thomasboyt</td>\n",
       "    </tr>\n",
       "    <tr>\n",
       "      <th>16</th>\n",
       "      <td>1</td>\n",
       "      <td>blaggregator</td>\n",
       "      <td>zachallaun</td>\n",
       "    </tr>\n",
       "    <tr>\n",
       "      <th>17</th>\n",
       "      <td>1</td>\n",
       "      <td>blaggregator</td>\n",
       "      <td>esommer</td>\n",
       "    </tr>\n",
       "  </tbody>\n",
       "</table>\n",
       "</div>"
      ],
      "text/plain": [
       "    contributions          repo      username\n",
       "0             278  blaggregator         sursh\n",
       "1             249  blaggregator     punchagan\n",
       "2              12  blaggregator  davidbalbert\n",
       "3              10  blaggregator       kenyavs\n",
       "4               5  blaggregator     stanzheng\n",
       "5               3  blaggregator       akaptur\n",
       "6               3  blaggregator  porterjamesj\n",
       "7               3  blaggregator     santialbo\n",
       "8               2  blaggregator       strugee\n",
       "9               2  blaggregator        danluu\n",
       "10              2  blaggregator     PuercoPop\n",
       "11              2  blaggregator           pnf\n",
       "12              1  blaggregator    alliejones\n",
       "13              1  blaggregator          nnja\n",
       "14              1  blaggregator         graue\n",
       "15              1  blaggregator    thomasboyt\n",
       "16              1  blaggregator    zachallaun\n",
       "17              1  blaggregator       esommer"
      ]
     },
     "execution_count": 40,
     "metadata": {},
     "output_type": "execute_result"
    }
   ],
   "source": [
    "pd.DataFrame.from_dict(all_repo_contributions)"
   ]
  },
  {
   "cell_type": "markdown",
   "metadata": {},
   "source": [
    "=> Let's build a list with more than one repo to see what we need to change."
   ]
  },
  {
   "cell_type": "code",
   "execution_count": null,
   "metadata": {},
   "outputs": [],
   "source": [
    "def build_contribution_list(repo, contributors):\n",
    "    all_repo_contributions = list()\n",
    "\n",
    "    for i in range(0,len(contributors)):\n",
    "        contributions = dict()\n",
    "        contributions[\"repo\"] = repo # should come from variable in real thing\n",
    "        contributions[\"username\"] = contributors[i]['login']\n",
    "        contributions[\"contributions\"] = contributors[i]['contributions']\n",
    "        all_repo_contributions.append(contributions)\n",
    "        return all_repo_contributions"
   ]
  },
  {
   "cell_type": "code",
   "execution_count": 44,
   "metadata": {},
   "outputs": [
    {
     "name": "stdout",
     "output_type": "stream",
     "text": [
      "[{'login': 'sursh', 'id': 719590, 'node_id': 'MDQ6VXNlcjcxOTU5MA==', 'avatar_url': 'https://avatars1.githubusercontent.com/u/719590?v=4', 'gravatar_id': '', 'url': 'https://api.github.com/users/sursh', 'html_url': 'https://github.com/sursh', 'followers_url': 'https://api.github.com/users/sursh/followers', 'following_url': 'https://api.github.com/users/sursh/following{/other_user}', 'gists_url': 'https://api.github.com/users/sursh/gists{/gist_id}', 'starred_url': 'https://api.github.com/users/sursh/starred{/owner}{/repo}', 'subscriptions_url': 'https://api.github.com/users/sursh/subscriptions', 'organizations_url': 'https://api.github.com/users/sursh/orgs', 'repos_url': 'https://api.github.com/users/sursh/repos', 'events_url': 'https://api.github.com/users/sursh/events{/privacy}', 'received_events_url': 'https://api.github.com/users/sursh/received_events', 'type': 'User', 'site_admin': False, 'contributions': 278}, {'login': 'punchagan', 'id': 315678, 'node_id': 'MDQ6VXNlcjMxNTY3OA==', 'avatar_url': 'https://avatars0.githubusercontent.com/u/315678?v=4', 'gravatar_id': '', 'url': 'https://api.github.com/users/punchagan', 'html_url': 'https://github.com/punchagan', 'followers_url': 'https://api.github.com/users/punchagan/followers', 'following_url': 'https://api.github.com/users/punchagan/following{/other_user}', 'gists_url': 'https://api.github.com/users/punchagan/gists{/gist_id}', 'starred_url': 'https://api.github.com/users/punchagan/starred{/owner}{/repo}', 'subscriptions_url': 'https://api.github.com/users/punchagan/subscriptions', 'organizations_url': 'https://api.github.com/users/punchagan/orgs', 'repos_url': 'https://api.github.com/users/punchagan/repos', 'events_url': 'https://api.github.com/users/punchagan/events{/privacy}', 'received_events_url': 'https://api.github.com/users/punchagan/received_events', 'type': 'User', 'site_admin': False, 'contributions': 249}, {'login': 'davidbalbert', 'id': 123350, 'node_id': 'MDQ6VXNlcjEyMzM1MA==', 'avatar_url': 'https://avatars2.githubusercontent.com/u/123350?v=4', 'gravatar_id': '', 'url': 'https://api.github.com/users/davidbalbert', 'html_url': 'https://github.com/davidbalbert', 'followers_url': 'https://api.github.com/users/davidbalbert/followers', 'following_url': 'https://api.github.com/users/davidbalbert/following{/other_user}', 'gists_url': 'https://api.github.com/users/davidbalbert/gists{/gist_id}', 'starred_url': 'https://api.github.com/users/davidbalbert/starred{/owner}{/repo}', 'subscriptions_url': 'https://api.github.com/users/davidbalbert/subscriptions', 'organizations_url': 'https://api.github.com/users/davidbalbert/orgs', 'repos_url': 'https://api.github.com/users/davidbalbert/repos', 'events_url': 'https://api.github.com/users/davidbalbert/events{/privacy}', 'received_events_url': 'https://api.github.com/users/davidbalbert/received_events', 'type': 'User', 'site_admin': False, 'contributions': 12}, {'login': 'kenyavs', 'id': 1468421, 'node_id': 'MDQ6VXNlcjE0Njg0MjE=', 'avatar_url': 'https://avatars2.githubusercontent.com/u/1468421?v=4', 'gravatar_id': '', 'url': 'https://api.github.com/users/kenyavs', 'html_url': 'https://github.com/kenyavs', 'followers_url': 'https://api.github.com/users/kenyavs/followers', 'following_url': 'https://api.github.com/users/kenyavs/following{/other_user}', 'gists_url': 'https://api.github.com/users/kenyavs/gists{/gist_id}', 'starred_url': 'https://api.github.com/users/kenyavs/starred{/owner}{/repo}', 'subscriptions_url': 'https://api.github.com/users/kenyavs/subscriptions', 'organizations_url': 'https://api.github.com/users/kenyavs/orgs', 'repos_url': 'https://api.github.com/users/kenyavs/repos', 'events_url': 'https://api.github.com/users/kenyavs/events{/privacy}', 'received_events_url': 'https://api.github.com/users/kenyavs/received_events', 'type': 'User', 'site_admin': False, 'contributions': 10}, {'login': 'stanzheng', 'id': 3683993, 'node_id': 'MDQ6VXNlcjM2ODM5OTM=', 'avatar_url': 'https://avatars1.githubusercontent.com/u/3683993?v=4', 'gravatar_id': '', 'url': 'https://api.github.com/users/stanzheng', 'html_url': 'https://github.com/stanzheng', 'followers_url': 'https://api.github.com/users/stanzheng/followers', 'following_url': 'https://api.github.com/users/stanzheng/following{/other_user}', 'gists_url': 'https://api.github.com/users/stanzheng/gists{/gist_id}', 'starred_url': 'https://api.github.com/users/stanzheng/starred{/owner}{/repo}', 'subscriptions_url': 'https://api.github.com/users/stanzheng/subscriptions', 'organizations_url': 'https://api.github.com/users/stanzheng/orgs', 'repos_url': 'https://api.github.com/users/stanzheng/repos', 'events_url': 'https://api.github.com/users/stanzheng/events{/privacy}', 'received_events_url': 'https://api.github.com/users/stanzheng/received_events', 'type': 'User', 'site_admin': False, 'contributions': 5}, {'login': 'akaptur', 'id': 1857780, 'node_id': 'MDQ6VXNlcjE4NTc3ODA=', 'avatar_url': 'https://avatars2.githubusercontent.com/u/1857780?v=4', 'gravatar_id': '', 'url': 'https://api.github.com/users/akaptur', 'html_url': 'https://github.com/akaptur', 'followers_url': 'https://api.github.com/users/akaptur/followers', 'following_url': 'https://api.github.com/users/akaptur/following{/other_user}', 'gists_url': 'https://api.github.com/users/akaptur/gists{/gist_id}', 'starred_url': 'https://api.github.com/users/akaptur/starred{/owner}{/repo}', 'subscriptions_url': 'https://api.github.com/users/akaptur/subscriptions', 'organizations_url': 'https://api.github.com/users/akaptur/orgs', 'repos_url': 'https://api.github.com/users/akaptur/repos', 'events_url': 'https://api.github.com/users/akaptur/events{/privacy}', 'received_events_url': 'https://api.github.com/users/akaptur/received_events', 'type': 'User', 'site_admin': False, 'contributions': 3}, {'login': 'porterjamesj', 'id': 2532521, 'node_id': 'MDQ6VXNlcjI1MzI1MjE=', 'avatar_url': 'https://avatars2.githubusercontent.com/u/2532521?v=4', 'gravatar_id': '', 'url': 'https://api.github.com/users/porterjamesj', 'html_url': 'https://github.com/porterjamesj', 'followers_url': 'https://api.github.com/users/porterjamesj/followers', 'following_url': 'https://api.github.com/users/porterjamesj/following{/other_user}', 'gists_url': 'https://api.github.com/users/porterjamesj/gists{/gist_id}', 'starred_url': 'https://api.github.com/users/porterjamesj/starred{/owner}{/repo}', 'subscriptions_url': 'https://api.github.com/users/porterjamesj/subscriptions', 'organizations_url': 'https://api.github.com/users/porterjamesj/orgs', 'repos_url': 'https://api.github.com/users/porterjamesj/repos', 'events_url': 'https://api.github.com/users/porterjamesj/events{/privacy}', 'received_events_url': 'https://api.github.com/users/porterjamesj/received_events', 'type': 'User', 'site_admin': False, 'contributions': 3}, {'login': 'santialbo', 'id': 1557563, 'node_id': 'MDQ6VXNlcjE1NTc1NjM=', 'avatar_url': 'https://avatars3.githubusercontent.com/u/1557563?v=4', 'gravatar_id': '', 'url': 'https://api.github.com/users/santialbo', 'html_url': 'https://github.com/santialbo', 'followers_url': 'https://api.github.com/users/santialbo/followers', 'following_url': 'https://api.github.com/users/santialbo/following{/other_user}', 'gists_url': 'https://api.github.com/users/santialbo/gists{/gist_id}', 'starred_url': 'https://api.github.com/users/santialbo/starred{/owner}{/repo}', 'subscriptions_url': 'https://api.github.com/users/santialbo/subscriptions', 'organizations_url': 'https://api.github.com/users/santialbo/orgs', 'repos_url': 'https://api.github.com/users/santialbo/repos', 'events_url': 'https://api.github.com/users/santialbo/events{/privacy}', 'received_events_url': 'https://api.github.com/users/santialbo/received_events', 'type': 'User', 'site_admin': False, 'contributions': 3}, {'login': 'strugee', 'id': 911174, 'node_id': 'MDQ6VXNlcjkxMTE3NA==', 'avatar_url': 'https://avatars0.githubusercontent.com/u/911174?v=4', 'gravatar_id': '', 'url': 'https://api.github.com/users/strugee', 'html_url': 'https://github.com/strugee', 'followers_url': 'https://api.github.com/users/strugee/followers', 'following_url': 'https://api.github.com/users/strugee/following{/other_user}', 'gists_url': 'https://api.github.com/users/strugee/gists{/gist_id}', 'starred_url': 'https://api.github.com/users/strugee/starred{/owner}{/repo}', 'subscriptions_url': 'https://api.github.com/users/strugee/subscriptions', 'organizations_url': 'https://api.github.com/users/strugee/orgs', 'repos_url': 'https://api.github.com/users/strugee/repos', 'events_url': 'https://api.github.com/users/strugee/events{/privacy}', 'received_events_url': 'https://api.github.com/users/strugee/received_events', 'type': 'User', 'site_admin': False, 'contributions': 2}, {'login': 'danluu', 'id': 157136, 'node_id': 'MDQ6VXNlcjE1NzEzNg==', 'avatar_url': 'https://avatars1.githubusercontent.com/u/157136?v=4', 'gravatar_id': '', 'url': 'https://api.github.com/users/danluu', 'html_url': 'https://github.com/danluu', 'followers_url': 'https://api.github.com/users/danluu/followers', 'following_url': 'https://api.github.com/users/danluu/following{/other_user}', 'gists_url': 'https://api.github.com/users/danluu/gists{/gist_id}', 'starred_url': 'https://api.github.com/users/danluu/starred{/owner}{/repo}', 'subscriptions_url': 'https://api.github.com/users/danluu/subscriptions', 'organizations_url': 'https://api.github.com/users/danluu/orgs', 'repos_url': 'https://api.github.com/users/danluu/repos', 'events_url': 'https://api.github.com/users/danluu/events{/privacy}', 'received_events_url': 'https://api.github.com/users/danluu/received_events', 'type': 'User', 'site_admin': False, 'contributions': 2}, {'login': 'PuercoPop', 'id': 387111, 'node_id': 'MDQ6VXNlcjM4NzExMQ==', 'avatar_url': 'https://avatars0.githubusercontent.com/u/387111?v=4', 'gravatar_id': '', 'url': 'https://api.github.com/users/PuercoPop', 'html_url': 'https://github.com/PuercoPop', 'followers_url': 'https://api.github.com/users/PuercoPop/followers', 'following_url': 'https://api.github.com/users/PuercoPop/following{/other_user}', 'gists_url': 'https://api.github.com/users/PuercoPop/gists{/gist_id}', 'starred_url': 'https://api.github.com/users/PuercoPop/starred{/owner}{/repo}', 'subscriptions_url': 'https://api.github.com/users/PuercoPop/subscriptions', 'organizations_url': 'https://api.github.com/users/PuercoPop/orgs', 'repos_url': 'https://api.github.com/users/PuercoPop/repos', 'events_url': 'https://api.github.com/users/PuercoPop/events{/privacy}', 'received_events_url': 'https://api.github.com/users/PuercoPop/received_events', 'type': 'User', 'site_admin': False, 'contributions': 2}, {'login': 'pnf', 'id': 1265645, 'node_id': 'MDQ6VXNlcjEyNjU2NDU=', 'avatar_url': 'https://avatars0.githubusercontent.com/u/1265645?v=4', 'gravatar_id': '', 'url': 'https://api.github.com/users/pnf', 'html_url': 'https://github.com/pnf', 'followers_url': 'https://api.github.com/users/pnf/followers', 'following_url': 'https://api.github.com/users/pnf/following{/other_user}', 'gists_url': 'https://api.github.com/users/pnf/gists{/gist_id}', 'starred_url': 'https://api.github.com/users/pnf/starred{/owner}{/repo}', 'subscriptions_url': 'https://api.github.com/users/pnf/subscriptions', 'organizations_url': 'https://api.github.com/users/pnf/orgs', 'repos_url': 'https://api.github.com/users/pnf/repos', 'events_url': 'https://api.github.com/users/pnf/events{/privacy}', 'received_events_url': 'https://api.github.com/users/pnf/received_events', 'type': 'User', 'site_admin': False, 'contributions': 2}, {'login': 'alliejones', 'id': 560881, 'node_id': 'MDQ6VXNlcjU2MDg4MQ==', 'avatar_url': 'https://avatars3.githubusercontent.com/u/560881?v=4', 'gravatar_id': '', 'url': 'https://api.github.com/users/alliejones', 'html_url': 'https://github.com/alliejones', 'followers_url': 'https://api.github.com/users/alliejones/followers', 'following_url': 'https://api.github.com/users/alliejones/following{/other_user}', 'gists_url': 'https://api.github.com/users/alliejones/gists{/gist_id}', 'starred_url': 'https://api.github.com/users/alliejones/starred{/owner}{/repo}', 'subscriptions_url': 'https://api.github.com/users/alliejones/subscriptions', 'organizations_url': 'https://api.github.com/users/alliejones/orgs', 'repos_url': 'https://api.github.com/users/alliejones/repos', 'events_url': 'https://api.github.com/users/alliejones/events{/privacy}', 'received_events_url': 'https://api.github.com/users/alliejones/received_events', 'type': 'User', 'site_admin': False, 'contributions': 1}, {'login': 'nnja', 'id': 2030983, 'node_id': 'MDQ6VXNlcjIwMzA5ODM=', 'avatar_url': 'https://avatars1.githubusercontent.com/u/2030983?v=4', 'gravatar_id': '', 'url': 'https://api.github.com/users/nnja', 'html_url': 'https://github.com/nnja', 'followers_url': 'https://api.github.com/users/nnja/followers', 'following_url': 'https://api.github.com/users/nnja/following{/other_user}', 'gists_url': 'https://api.github.com/users/nnja/gists{/gist_id}', 'starred_url': 'https://api.github.com/users/nnja/starred{/owner}{/repo}', 'subscriptions_url': 'https://api.github.com/users/nnja/subscriptions', 'organizations_url': 'https://api.github.com/users/nnja/orgs', 'repos_url': 'https://api.github.com/users/nnja/repos', 'events_url': 'https://api.github.com/users/nnja/events{/privacy}', 'received_events_url': 'https://api.github.com/users/nnja/received_events', 'type': 'User', 'site_admin': False, 'contributions': 1}, {'login': 'graue', 'id': 1730853, 'node_id': 'MDQ6VXNlcjE3MzA4NTM=', 'avatar_url': 'https://avatars3.githubusercontent.com/u/1730853?v=4', 'gravatar_id': '', 'url': 'https://api.github.com/users/graue', 'html_url': 'https://github.com/graue', 'followers_url': 'https://api.github.com/users/graue/followers', 'following_url': 'https://api.github.com/users/graue/following{/other_user}', 'gists_url': 'https://api.github.com/users/graue/gists{/gist_id}', 'starred_url': 'https://api.github.com/users/graue/starred{/owner}{/repo}', 'subscriptions_url': 'https://api.github.com/users/graue/subscriptions', 'organizations_url': 'https://api.github.com/users/graue/orgs', 'repos_url': 'https://api.github.com/users/graue/repos', 'events_url': 'https://api.github.com/users/graue/events{/privacy}', 'received_events_url': 'https://api.github.com/users/graue/received_events', 'type': 'User', 'site_admin': False, 'contributions': 1}, {'login': 'thomasboyt', 'id': 579628, 'node_id': 'MDQ6VXNlcjU3OTYyOA==', 'avatar_url': 'https://avatars1.githubusercontent.com/u/579628?v=4', 'gravatar_id': '', 'url': 'https://api.github.com/users/thomasboyt', 'html_url': 'https://github.com/thomasboyt', 'followers_url': 'https://api.github.com/users/thomasboyt/followers', 'following_url': 'https://api.github.com/users/thomasboyt/following{/other_user}', 'gists_url': 'https://api.github.com/users/thomasboyt/gists{/gist_id}', 'starred_url': 'https://api.github.com/users/thomasboyt/starred{/owner}{/repo}', 'subscriptions_url': 'https://api.github.com/users/thomasboyt/subscriptions', 'organizations_url': 'https://api.github.com/users/thomasboyt/orgs', 'repos_url': 'https://api.github.com/users/thomasboyt/repos', 'events_url': 'https://api.github.com/users/thomasboyt/events{/privacy}', 'received_events_url': 'https://api.github.com/users/thomasboyt/received_events', 'type': 'User', 'site_admin': False, 'contributions': 1}, {'login': 'zachallaun', 'id': 503938, 'node_id': 'MDQ6VXNlcjUwMzkzOA==', 'avatar_url': 'https://avatars0.githubusercontent.com/u/503938?v=4', 'gravatar_id': '', 'url': 'https://api.github.com/users/zachallaun', 'html_url': 'https://github.com/zachallaun', 'followers_url': 'https://api.github.com/users/zachallaun/followers', 'following_url': 'https://api.github.com/users/zachallaun/following{/other_user}', 'gists_url': 'https://api.github.com/users/zachallaun/gists{/gist_id}', 'starred_url': 'https://api.github.com/users/zachallaun/starred{/owner}{/repo}', 'subscriptions_url': 'https://api.github.com/users/zachallaun/subscriptions', 'organizations_url': 'https://api.github.com/users/zachallaun/orgs', 'repos_url': 'https://api.github.com/users/zachallaun/repos', 'events_url': 'https://api.github.com/users/zachallaun/events{/privacy}', 'received_events_url': 'https://api.github.com/users/zachallaun/received_events', 'type': 'User', 'site_admin': False, 'contributions': 1}, {'login': 'esommer', 'id': 1130700, 'node_id': 'MDQ6VXNlcjExMzA3MDA=', 'avatar_url': 'https://avatars2.githubusercontent.com/u/1130700?v=4', 'gravatar_id': '', 'url': 'https://api.github.com/users/esommer', 'html_url': 'https://github.com/esommer', 'followers_url': 'https://api.github.com/users/esommer/followers', 'following_url': 'https://api.github.com/users/esommer/following{/other_user}', 'gists_url': 'https://api.github.com/users/esommer/gists{/gist_id}', 'starred_url': 'https://api.github.com/users/esommer/starred{/owner}{/repo}', 'subscriptions_url': 'https://api.github.com/users/esommer/subscriptions', 'organizations_url': 'https://api.github.com/users/esommer/orgs', 'repos_url': 'https://api.github.com/users/esommer/repos', 'events_url': 'https://api.github.com/users/esommer/events{/privacy}', 'received_events_url': 'https://api.github.com/users/esommer/received_events', 'type': 'User', 'site_admin': False, 'contributions': 1}, {'login': 'zachallaun', 'id': 503938, 'node_id': 'MDQ6VXNlcjUwMzkzOA==', 'avatar_url': 'https://avatars0.githubusercontent.com/u/503938?v=4', 'gravatar_id': '', 'url': 'https://api.github.com/users/zachallaun', 'html_url': 'https://github.com/zachallaun', 'followers_url': 'https://api.github.com/users/zachallaun/followers', 'following_url': 'https://api.github.com/users/zachallaun/following{/other_user}', 'gists_url': 'https://api.github.com/users/zachallaun/gists{/gist_id}', 'starred_url': 'https://api.github.com/users/zachallaun/starred{/owner}{/repo}', 'subscriptions_url': 'https://api.github.com/users/zachallaun/subscriptions', 'organizations_url': 'https://api.github.com/users/zachallaun/orgs', 'repos_url': 'https://api.github.com/users/zachallaun/repos', 'events_url': 'https://api.github.com/users/zachallaun/events{/privacy}', 'received_events_url': 'https://api.github.com/users/zachallaun/received_events', 'type': 'User', 'site_admin': False, 'contributions': 745}, {'login': 'davidbalbert', 'id': 123350, 'node_id': 'MDQ6VXNlcjEyMzM1MA==', 'avatar_url': 'https://avatars2.githubusercontent.com/u/123350?v=4', 'gravatar_id': '', 'url': 'https://api.github.com/users/davidbalbert', 'html_url': 'https://github.com/davidbalbert', 'followers_url': 'https://api.github.com/users/davidbalbert/followers', 'following_url': 'https://api.github.com/users/davidbalbert/following{/other_user}', 'gists_url': 'https://api.github.com/users/davidbalbert/gists{/gist_id}', 'starred_url': 'https://api.github.com/users/davidbalbert/starred{/owner}{/repo}', 'subscriptions_url': 'https://api.github.com/users/davidbalbert/subscriptions', 'organizations_url': 'https://api.github.com/users/davidbalbert/orgs', 'repos_url': 'https://api.github.com/users/davidbalbert/repos', 'events_url': 'https://api.github.com/users/davidbalbert/events{/privacy}', 'received_events_url': 'https://api.github.com/users/davidbalbert/received_events', 'type': 'User', 'site_admin': False, 'contributions': 330}, {'login': 'madhuvishy', 'id': 621621, 'node_id': 'MDQ6VXNlcjYyMTYyMQ==', 'avatar_url': 'https://avatars1.githubusercontent.com/u/621621?v=4', 'gravatar_id': '', 'url': 'https://api.github.com/users/madhuvishy', 'html_url': 'https://github.com/madhuvishy', 'followers_url': 'https://api.github.com/users/madhuvishy/followers', 'following_url': 'https://api.github.com/users/madhuvishy/following{/other_user}', 'gists_url': 'https://api.github.com/users/madhuvishy/gists{/gist_id}', 'starred_url': 'https://api.github.com/users/madhuvishy/starred{/owner}{/repo}', 'subscriptions_url': 'https://api.github.com/users/madhuvishy/subscriptions', 'organizations_url': 'https://api.github.com/users/madhuvishy/orgs', 'repos_url': 'https://api.github.com/users/madhuvishy/repos', 'events_url': 'https://api.github.com/users/madhuvishy/events{/privacy}', 'received_events_url': 'https://api.github.com/users/madhuvishy/received_events', 'type': 'User', 'site_admin': False, 'contributions': 63}, {'login': 'surenm', 'id': 389694, 'node_id': 'MDQ6VXNlcjM4OTY5NA==', 'avatar_url': 'https://avatars1.githubusercontent.com/u/389694?v=4', 'gravatar_id': '', 'url': 'https://api.github.com/users/surenm', 'html_url': 'https://github.com/surenm', 'followers_url': 'https://api.github.com/users/surenm/followers', 'following_url': 'https://api.github.com/users/surenm/following{/other_user}', 'gists_url': 'https://api.github.com/users/surenm/gists{/gist_id}', 'starred_url': 'https://api.github.com/users/surenm/starred{/owner}{/repo}', 'subscriptions_url': 'https://api.github.com/users/surenm/subscriptions', 'organizations_url': 'https://api.github.com/users/surenm/orgs', 'repos_url': 'https://api.github.com/users/surenm/repos', 'events_url': 'https://api.github.com/users/surenm/events{/privacy}', 'received_events_url': 'https://api.github.com/users/surenm/received_events', 'type': 'User', 'site_admin': False, 'contributions': 61}, {'login': 'jollysonali', 'id': 742327, 'node_id': 'MDQ6VXNlcjc0MjMyNw==', 'avatar_url': 'https://avatars1.githubusercontent.com/u/742327?v=4', 'gravatar_id': '', 'url': 'https://api.github.com/users/jollysonali', 'html_url': 'https://github.com/jollysonali', 'followers_url': 'https://api.github.com/users/jollysonali/followers', 'following_url': 'https://api.github.com/users/jollysonali/following{/other_user}', 'gists_url': 'https://api.github.com/users/jollysonali/gists{/gist_id}', 'starred_url': 'https://api.github.com/users/jollysonali/starred{/owner}{/repo}', 'subscriptions_url': 'https://api.github.com/users/jollysonali/subscriptions', 'organizations_url': 'https://api.github.com/users/jollysonali/orgs', 'repos_url': 'https://api.github.com/users/jollysonali/repos', 'events_url': 'https://api.github.com/users/jollysonali/events{/privacy}', 'received_events_url': 'https://api.github.com/users/jollysonali/received_events', 'type': 'User', 'site_admin': False, 'contributions': 11}, {'login': 'lord', 'id': 1976330, 'node_id': 'MDQ6VXNlcjE5NzYzMzA=', 'avatar_url': 'https://avatars0.githubusercontent.com/u/1976330?v=4', 'gravatar_id': '', 'url': 'https://api.github.com/users/lord', 'html_url': 'https://github.com/lord', 'followers_url': 'https://api.github.com/users/lord/followers', 'following_url': 'https://api.github.com/users/lord/following{/other_user}', 'gists_url': 'https://api.github.com/users/lord/gists{/gist_id}', 'starred_url': 'https://api.github.com/users/lord/starred{/owner}{/repo}', 'subscriptions_url': 'https://api.github.com/users/lord/subscriptions', 'organizations_url': 'https://api.github.com/users/lord/orgs', 'repos_url': 'https://api.github.com/users/lord/repos', 'events_url': 'https://api.github.com/users/lord/events{/privacy}', 'received_events_url': 'https://api.github.com/users/lord/received_events', 'type': 'User', 'site_admin': False, 'contributions': 4}, {'login': 'himerzi', 'id': 835088, 'node_id': 'MDQ6VXNlcjgzNTA4OA==', 'avatar_url': 'https://avatars2.githubusercontent.com/u/835088?v=4', 'gravatar_id': '', 'url': 'https://api.github.com/users/himerzi', 'html_url': 'https://github.com/himerzi', 'followers_url': 'https://api.github.com/users/himerzi/followers', 'following_url': 'https://api.github.com/users/himerzi/following{/other_user}', 'gists_url': 'https://api.github.com/users/himerzi/gists{/gist_id}', 'starred_url': 'https://api.github.com/users/himerzi/starred{/owner}{/repo}', 'subscriptions_url': 'https://api.github.com/users/himerzi/subscriptions', 'organizations_url': 'https://api.github.com/users/himerzi/orgs', 'repos_url': 'https://api.github.com/users/himerzi/repos', 'events_url': 'https://api.github.com/users/himerzi/events{/privacy}', 'received_events_url': 'https://api.github.com/users/himerzi/received_events', 'type': 'User', 'site_admin': False, 'contributions': 3}, {'login': 'pietromenna', 'id': 840539, 'node_id': 'MDQ6VXNlcjg0MDUzOQ==', 'avatar_url': 'https://avatars3.githubusercontent.com/u/840539?v=4', 'gravatar_id': '', 'url': 'https://api.github.com/users/pietromenna', 'html_url': 'https://github.com/pietromenna', 'followers_url': 'https://api.github.com/users/pietromenna/followers', 'following_url': 'https://api.github.com/users/pietromenna/following{/other_user}', 'gists_url': 'https://api.github.com/users/pietromenna/gists{/gist_id}', 'starred_url': 'https://api.github.com/users/pietromenna/starred{/owner}{/repo}', 'subscriptions_url': 'https://api.github.com/users/pietromenna/subscriptions', 'organizations_url': 'https://api.github.com/users/pietromenna/orgs', 'repos_url': 'https://api.github.com/users/pietromenna/repos', 'events_url': 'https://api.github.com/users/pietromenna/events{/privacy}', 'received_events_url': 'https://api.github.com/users/pietromenna/received_events', 'type': 'User', 'site_admin': False, 'contributions': 3}, {'login': 'brendannee', 'id': 96217, 'node_id': 'MDQ6VXNlcjk2MjE3', 'avatar_url': 'https://avatars2.githubusercontent.com/u/96217?v=4', 'gravatar_id': '', 'url': 'https://api.github.com/users/brendannee', 'html_url': 'https://github.com/brendannee', 'followers_url': 'https://api.github.com/users/brendannee/followers', 'following_url': 'https://api.github.com/users/brendannee/following{/other_user}', 'gists_url': 'https://api.github.com/users/brendannee/gists{/gist_id}', 'starred_url': 'https://api.github.com/users/brendannee/starred{/owner}{/repo}', 'subscriptions_url': 'https://api.github.com/users/brendannee/subscriptions', 'organizations_url': 'https://api.github.com/users/brendannee/orgs', 'repos_url': 'https://api.github.com/users/brendannee/repos', 'events_url': 'https://api.github.com/users/brendannee/events{/privacy}', 'received_events_url': 'https://api.github.com/users/brendannee/received_events', 'type': 'User', 'site_admin': False, 'contributions': 2}, {'login': 'strugee', 'id': 911174, 'node_id': 'MDQ6VXNlcjkxMTE3NA==', 'avatar_url': 'https://avatars0.githubusercontent.com/u/911174?v=4', 'gravatar_id': '', 'url': 'https://api.github.com/users/strugee', 'html_url': 'https://github.com/strugee', 'followers_url': 'https://api.github.com/users/strugee/followers', 'following_url': 'https://api.github.com/users/strugee/following{/other_user}', 'gists_url': 'https://api.github.com/users/strugee/gists{/gist_id}', 'starred_url': 'https://api.github.com/users/strugee/starred{/owner}{/repo}', 'subscriptions_url': 'https://api.github.com/users/strugee/subscriptions', 'organizations_url': 'https://api.github.com/users/strugee/orgs', 'repos_url': 'https://api.github.com/users/strugee/repos', 'events_url': 'https://api.github.com/users/strugee/events{/privacy}', 'received_events_url': 'https://api.github.com/users/strugee/received_events', 'type': 'User', 'site_admin': False, 'contributions': 1}, {'login': 'HiroAgustin', 'id': 1458873, 'node_id': 'MDQ6VXNlcjE0NTg4NzM=', 'avatar_url': 'https://avatars0.githubusercontent.com/u/1458873?v=4', 'gravatar_id': '', 'url': 'https://api.github.com/users/HiroAgustin', 'html_url': 'https://github.com/HiroAgustin', 'followers_url': 'https://api.github.com/users/HiroAgustin/followers', 'following_url': 'https://api.github.com/users/HiroAgustin/following{/other_user}', 'gists_url': 'https://api.github.com/users/HiroAgustin/gists{/gist_id}', 'starred_url': 'https://api.github.com/users/HiroAgustin/starred{/owner}{/repo}', 'subscriptions_url': 'https://api.github.com/users/HiroAgustin/subscriptions', 'organizations_url': 'https://api.github.com/users/HiroAgustin/orgs', 'repos_url': 'https://api.github.com/users/HiroAgustin/repos', 'events_url': 'https://api.github.com/users/HiroAgustin/events{/privacy}', 'received_events_url': 'https://api.github.com/users/HiroAgustin/received_events', 'type': 'User', 'site_admin': False, 'contributions': 1}, {'login': 'jasonaowen', 'id': 1494855, 'node_id': 'MDQ6VXNlcjE0OTQ4NTU=', 'avatar_url': 'https://avatars0.githubusercontent.com/u/1494855?v=4', 'gravatar_id': '', 'url': 'https://api.github.com/users/jasonaowen', 'html_url': 'https://github.com/jasonaowen', 'followers_url': 'https://api.github.com/users/jasonaowen/followers', 'following_url': 'https://api.github.com/users/jasonaowen/following{/other_user}', 'gists_url': 'https://api.github.com/users/jasonaowen/gists{/gist_id}', 'starred_url': 'https://api.github.com/users/jasonaowen/starred{/owner}{/repo}', 'subscriptions_url': 'https://api.github.com/users/jasonaowen/subscriptions', 'organizations_url': 'https://api.github.com/users/jasonaowen/orgs', 'repos_url': 'https://api.github.com/users/jasonaowen/repos', 'events_url': 'https://api.github.com/users/jasonaowen/events{/privacy}', 'received_events_url': 'https://api.github.com/users/jasonaowen/received_events', 'type': 'User', 'site_admin': False, 'contributions': 1}, {'login': 'mveytsman', 'id': 34720, 'node_id': 'MDQ6VXNlcjM0NzIw', 'avatar_url': 'https://avatars0.githubusercontent.com/u/34720?v=4', 'gravatar_id': '', 'url': 'https://api.github.com/users/mveytsman', 'html_url': 'https://github.com/mveytsman', 'followers_url': 'https://api.github.com/users/mveytsman/followers', 'following_url': 'https://api.github.com/users/mveytsman/following{/other_user}', 'gists_url': 'https://api.github.com/users/mveytsman/gists{/gist_id}', 'starred_url': 'https://api.github.com/users/mveytsman/starred{/owner}{/repo}', 'subscriptions_url': 'https://api.github.com/users/mveytsman/subscriptions', 'organizations_url': 'https://api.github.com/users/mveytsman/orgs', 'repos_url': 'https://api.github.com/users/mveytsman/repos', 'events_url': 'https://api.github.com/users/mveytsman/events{/privacy}', 'received_events_url': 'https://api.github.com/users/mveytsman/received_events', 'type': 'User', 'site_admin': True, 'contributions': 1}, {'login': 'Will-Sommers', 'id': 1354217, 'node_id': 'MDQ6VXNlcjEzNTQyMTc=', 'avatar_url': 'https://avatars1.githubusercontent.com/u/1354217?v=4', 'gravatar_id': '', 'url': 'https://api.github.com/users/Will-Sommers', 'html_url': 'https://github.com/Will-Sommers', 'followers_url': 'https://api.github.com/users/Will-Sommers/followers', 'following_url': 'https://api.github.com/users/Will-Sommers/following{/other_user}', 'gists_url': 'https://api.github.com/users/Will-Sommers/gists{/gist_id}', 'starred_url': 'https://api.github.com/users/Will-Sommers/starred{/owner}{/repo}', 'subscriptions_url': 'https://api.github.com/users/Will-Sommers/subscriptions', 'organizations_url': 'https://api.github.com/users/Will-Sommers/orgs', 'repos_url': 'https://api.github.com/users/Will-Sommers/repos', 'events_url': 'https://api.github.com/users/Will-Sommers/events{/privacy}', 'received_events_url': 'https://api.github.com/users/Will-Sommers/received_events', 'type': 'User', 'site_admin': False, 'contributions': 1}]\n"
     ]
    }
   ],
   "source": [
    "contributors1 = get_contributors(recurse[2]['contributors_url'])\n",
    "contributors2 = get_contributors(recurse[3]['contributors_url'])\n",
    "\n"
   ]
  },
  {
   "cell_type": "code",
   "execution_count": null,
   "metadata": {},
   "outputs": [],
   "source": []
  }
 ],
 "metadata": {
  "kernelspec": {
   "display_name": "Python (scraper)",
   "language": "python",
   "name": "scraper"
  },
  "language_info": {
   "codemirror_mode": {
    "name": "ipython",
    "version": 3
   },
   "file_extension": ".py",
   "mimetype": "text/x-python",
   "name": "python",
   "nbconvert_exporter": "python",
   "pygments_lexer": "ipython3",
   "version": "3.7.1"
  }
 },
 "nbformat": 4,
 "nbformat_minor": 2
}
