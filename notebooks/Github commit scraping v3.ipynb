{
 "cells": [
  {
   "cell_type": "markdown",
   "metadata": {},
   "source": [
    "# Contribution scraping, workbook 3"
   ]
  },
  {
   "cell_type": "markdown",
   "metadata": {},
   "source": [
    "Tasks:\n",
    "* Decide whether to scrape more info\n",
    "* Scrape a subset of cryptocurrency data + save; what statistics can I get for each user?\n",
    "* Look into parsing usernames, perhaps image recognition on avi's?"
   ]
  },
  {
   "cell_type": "markdown",
   "metadata": {},
   "source": [
    "Start by looking at the full range of what's available to see if we should include more than just contributions."
   ]
  },
  {
   "cell_type": "code",
   "execution_count": 4,
   "metadata": {},
   "outputs": [],
   "source": [
    "import requests\n",
    "import json"
   ]
  },
  {
   "cell_type": "code",
   "execution_count": 5,
   "metadata": {},
   "outputs": [],
   "source": [
    "contributors_url = 'https://api.github.com/repos/recursecenter/blaggregator/contributors'"
   ]
  },
  {
   "cell_type": "code",
   "execution_count": 12,
   "metadata": {},
   "outputs": [],
   "source": [
    "def get_contributors_test(url):    \n",
    "    response = requests.get(url, headers=headers)\n",
    "\n",
    "    if response.status_code == 200:\n",
    "        return (response.json())\n",
    "    else:\n",
    "        print('[!] HTTP {0} calling repo [{1}]'.format(response.status_code, contrib_url))\n",
    "        return None"
   ]
  },
  {
   "cell_type": "code",
   "execution_count": 13,
   "metadata": {},
   "outputs": [],
   "source": [
    "blag = get_contributors_test(contributors_url)"
   ]
  },
  {
   "cell_type": "code",
   "execution_count": 16,
   "metadata": {},
   "outputs": [
    {
     "data": {
      "text/plain": [
       "{'login': 'punchagan',\n",
       " 'id': 315678,\n",
       " 'node_id': 'MDQ6VXNlcjMxNTY3OA==',\n",
       " 'avatar_url': 'https://avatars0.githubusercontent.com/u/315678?v=4',\n",
       " 'gravatar_id': '',\n",
       " 'url': 'https://api.github.com/users/punchagan',\n",
       " 'html_url': 'https://github.com/punchagan',\n",
       " 'followers_url': 'https://api.github.com/users/punchagan/followers',\n",
       " 'following_url': 'https://api.github.com/users/punchagan/following{/other_user}',\n",
       " 'gists_url': 'https://api.github.com/users/punchagan/gists{/gist_id}',\n",
       " 'starred_url': 'https://api.github.com/users/punchagan/starred{/owner}{/repo}',\n",
       " 'subscriptions_url': 'https://api.github.com/users/punchagan/subscriptions',\n",
       " 'organizations_url': 'https://api.github.com/users/punchagan/orgs',\n",
       " 'repos_url': 'https://api.github.com/users/punchagan/repos',\n",
       " 'events_url': 'https://api.github.com/users/punchagan/events{/privacy}',\n",
       " 'received_events_url': 'https://api.github.com/users/punchagan/received_events',\n",
       " 'type': 'User',\n",
       " 'site_admin': False,\n",
       " 'contributions': 249}"
      ]
     },
     "execution_count": 16,
     "metadata": {},
     "output_type": "execute_result"
    }
   ],
   "source": [
    "blag[1]"
   ]
  },
  {
   "cell_type": "markdown",
   "metadata": {},
   "source": [
    "It might be useful to get the profile URL and avatar URL, since this can be parsed as a picture of a user. But, should we look this up in a separate scrape?\n",
    "\n",
    "In fact if we follow the API URL, we can see that there's an optional field `name` which can help give us additional information about the person."
   ]
  },
  {
   "cell_type": "code",
   "execution_count": 23,
   "metadata": {},
   "outputs": [],
   "source": [
    "def find_contributor_name(url):\n",
    "    response = requests.get(url, headers=headers)\n",
    "\n",
    "    if response.status_code == 200:\n",
    "        return (response.json())\n",
    "    else:\n",
    "        print('[!] HTTP {0} calling repo [{1}]'.format(response.status_code, contrib_url))\n",
    "        return None"
   ]
  },
  {
   "cell_type": "code",
   "execution_count": 24,
   "metadata": {},
   "outputs": [],
   "source": [
    "punchagan = find_contributor_name('https://api.github.com/users/punchagan')"
   ]
  },
  {
   "cell_type": "code",
   "execution_count": 27,
   "metadata": {},
   "outputs": [
    {
     "data": {
      "text/plain": [
       "'Puneeth Chaganti'"
      ]
     },
     "execution_count": 27,
     "metadata": {},
     "output_type": "execute_result"
    }
   ],
   "source": [
    "punchagan['name']"
   ]
  },
  {
   "cell_type": "markdown",
   "metadata": {},
   "source": [
    "So, we'll need to write a second scraper to get the human name from a list of usernames. Perhaps this could be an additional step to build into the repo scraper, rather than collect all of the repos first, then go back to collect all of the names.\n",
    "\n",
    "ALSO: At some point I might need to dowload profile images in order to pass them through an algorithm."
   ]
  },
  {
   "cell_type": "markdown",
   "metadata": {},
   "source": [
    "### Gender parsing steps:\n",
    "1. Filter profiles by those with human name and those without\n",
    "    * No human name goes into 'uncertain' bucket\n",
    "2. Parse human names for gender\n",
    "    * Names with ambiguous gender also into 'uncertain' bucket\n",
    "3. Scrape avi's for every username in 'uncertain'\n",
    "4. Apply gender classification algorithm to avis.\n"
   ]
  },
  {
   "cell_type": "markdown",
   "metadata": {},
   "source": [
    "## Tweak scraper file to collect url, avi link\n"
   ]
  },
  {
   "cell_type": "code",
   "execution_count": null,
   "metadata": {},
   "outputs": [],
   "source": []
  },
  {
   "cell_type": "code",
   "execution_count": 15,
   "metadata": {},
   "outputs": [
    {
     "data": {
      "text/plain": [
       "{'login': 'sursh',\n",
       " 'id': 719590,\n",
       " 'node_id': 'MDQ6VXNlcjcxOTU5MA==',\n",
       " 'avatar_url': 'https://avatars1.githubusercontent.com/u/719590?v=4',\n",
       " 'gravatar_id': '',\n",
       " 'url': 'https://api.github.com/users/sursh',\n",
       " 'html_url': 'https://github.com/sursh',\n",
       " 'followers_url': 'https://api.github.com/users/sursh/followers',\n",
       " 'following_url': 'https://api.github.com/users/sursh/following{/other_user}',\n",
       " 'gists_url': 'https://api.github.com/users/sursh/gists{/gist_id}',\n",
       " 'starred_url': 'https://api.github.com/users/sursh/starred{/owner}{/repo}',\n",
       " 'subscriptions_url': 'https://api.github.com/users/sursh/subscriptions',\n",
       " 'organizations_url': 'https://api.github.com/users/sursh/orgs',\n",
       " 'repos_url': 'https://api.github.com/users/sursh/repos',\n",
       " 'events_url': 'https://api.github.com/users/sursh/events{/privacy}',\n",
       " 'received_events_url': 'https://api.github.com/users/sursh/received_events',\n",
       " 'type': 'User',\n",
       " 'site_admin': False,\n",
       " 'contributions': 278}"
      ]
     },
     "execution_count": 15,
     "metadata": {},
     "output_type": "execute_result"
    }
   ],
   "source": [
    "blag[0]"
   ]
  },
  {
   "cell_type": "code",
   "execution_count": 67,
   "metadata": {},
   "outputs": [],
   "source": [
    "# %load tor_get_repo_contributions.py\n",
    "import json\n",
    "import requests\n",
    "\n",
    "session = requests.session()\n",
    "session.proxies = {}\n",
    "\n",
    "session.proxies['http'] = 'socks5h://localhost:9050'\n",
    "session.proxies['https'] = 'socks5h://localhost:9050'\n",
    "\n",
    "api_url_base = 'https://api.github.com/'\n",
    "headers = {'Content-Type': 'application/json',\n",
    "           'User-Agent': 'python-requests/3.1.7',\n",
    "           'Accept': 'application/vnd.github.v3+json'}\n",
    "\n",
    "\n",
    "def get_repos(orgname):\n",
    "    api_url = '{}orgs/{}/repos'.format(api_url_base, orgname)\n",
    "    # use session.get instead of request\n",
    "    response = session.get(api_url, headers=headers)\n",
    "\n",
    "    if response.status_code == 200:\n",
    "        return (response.json())\n",
    "    else:\n",
    "        print('[!] HTTP {0} calling [{1}]'.format(response.status_code, api_url))\n",
    "        return None\n",
    "\n",
    "\n",
    "def get_contributors(repo):\n",
    "    name = repo['name']\n",
    "    contrib_url = repo['contributors_url']\n",
    "    \n",
    "    response = session.get(contrib_url, headers=headers)\n",
    "\n",
    "    if response.status_code == 200:\n",
    "        return (\n",
    "            # returns `contribution_response`\n",
    "            {'name': name,\n",
    "             'data': response.json()}\n",
    "        )\n",
    "    else:\n",
    "        print('[!] HTTP {0} calling repo [{1}]'.format(response.status_code, contrib_url))\n",
    "        return None\n",
    "\n",
    "\n",
    "def build_contribution_list(contribution_response):\n",
    "    all_repo_contributions = list()\n",
    "\n",
    "    for i in range(0,len(contribution_response['data'])):\n",
    "        ctr = dict()\n",
    "        ctr[\"repo\"] = contribution_response['name']\n",
    "        ctr[\"username\"] = contribution_response['data'][i]['login']\n",
    "        ctr[\"contributions\"] = contribution_response['data'][i]['contributions']\n",
    "        ctr[\"avatar_url\"] = contribution_response['data'][i]['avatar_url']\n",
    "        ctr[\"profile_url\"] = contribution_response['data'][i]['url']\n",
    "        \n",
    "        all_repo_contributions.append(ctr)\n",
    "    \n",
    "    return all_repo_contributions\n",
    "\n",
    "\n",
    "all_org_contributions = list()\n",
    "    \n",
    "def get_all_contributions(org):\n",
    "    repos = get_repos(org)\n",
    "\n",
    "    for repo in repos:\n",
    "        contributors = get_contributors(repo)\n",
    "        contribution_list = build_contribution_list(contributors)\n",
    "        all_org_contributions.append(contribution_list)\n",
    "        \n",
    "# need to do real name lookup next.\n",
    "    # add_names_to_list(all_orall_org_contributions)\n",
    "    # print(\"Done!\")"
   ]
  },
  {
   "cell_type": "code",
   "execution_count": 70,
   "metadata": {},
   "outputs": [],
   "source": [
    "get_all_contributions('recursecenter')"
   ]
  },
  {
   "cell_type": "code",
   "execution_count": 72,
   "metadata": {},
   "outputs": [
    {
     "data": {
      "text/plain": [
       "[{'repo': 'hs-cli',\n",
       "  'username': 'zachallaun',\n",
       "  'contributions': 51,\n",
       "  'avatar_url': 'https://avatars0.githubusercontent.com/u/503938?v=4',\n",
       "  'profile_url': 'https://api.github.com/users/zachallaun'},\n",
       " {'repo': 'hs-cli',\n",
       "  'username': 'davidbalbert',\n",
       "  'contributions': 2,\n",
       "  'avatar_url': 'https://avatars2.githubusercontent.com/u/123350?v=4',\n",
       "  'profile_url': 'https://api.github.com/users/davidbalbert'}]"
      ]
     },
     "execution_count": 72,
     "metadata": {},
     "output_type": "execute_result"
    }
   ],
   "source": [
    "# We now have a list with one item per repo\n",
    "all_org_contributions[0]"
   ]
  },
  {
   "cell_type": "code",
   "execution_count": 46,
   "metadata": {},
   "outputs": [
    {
     "name": "stdout",
     "output_type": "stream",
     "text": [
      "https://api.github.com/users/zachallaun\n",
      "https://api.github.com/users/davidbalbert\n",
      "https://api.github.com/users/danielmendel\n",
      "https://api.github.com/users/astrieanna\n",
      "https://api.github.com/users/zachallaun\n",
      "https://api.github.com/users/chuckha\n",
      "https://api.github.com/users/ncollins\n",
      "https://api.github.com/users/maxlikely\n",
      "https://api.github.com/users/StefanKarpinski\n",
      "https://api.github.com/users/jroes\n",
      "https://api.github.com/users/sursh\n",
      "https://api.github.com/users/punchagan\n",
      "https://api.github.com/users/davidbalbert\n",
      "https://api.github.com/users/kenyavs\n",
      "https://api.github.com/users/stanzheng\n",
      "https://api.github.com/users/akaptur\n",
      "https://api.github.com/users/porterjamesj\n",
      "https://api.github.com/users/santialbo\n",
      "https://api.github.com/users/strugee\n",
      "https://api.github.com/users/danluu\n",
      "https://api.github.com/users/PuercoPop\n",
      "https://api.github.com/users/pnf\n",
      "https://api.github.com/users/alliejones\n",
      "https://api.github.com/users/nnja\n",
      "https://api.github.com/users/graue\n",
      "https://api.github.com/users/thomasboyt\n",
      "https://api.github.com/users/zachallaun\n",
      "https://api.github.com/users/esommer\n",
      "https://api.github.com/users/zachallaun\n",
      "https://api.github.com/users/davidbalbert\n",
      "https://api.github.com/users/madhuvishy\n",
      "https://api.github.com/users/surenm\n",
      "https://api.github.com/users/jollysonali\n",
      "https://api.github.com/users/lord\n",
      "https://api.github.com/users/himerzi\n",
      "https://api.github.com/users/pietromenna\n",
      "https://api.github.com/users/brendannee\n",
      "https://api.github.com/users/strugee\n",
      "https://api.github.com/users/HiroAgustin\n",
      "https://api.github.com/users/jasonaowen\n",
      "https://api.github.com/users/mveytsman\n",
      "https://api.github.com/users/Will-Sommers\n",
      "https://api.github.com/users/kuanb\n",
      "https://api.github.com/users/renschler\n",
      "https://api.github.com/users/thomasballinger\n",
      "https://api.github.com/users/margo73465\n",
      "https://api.github.com/users/maccman\n",
      "https://api.github.com/users/josh\n",
      "https://api.github.com/users/alex-stripe\n",
      "https://api.github.com/users/zachallaun\n",
      "https://api.github.com/users/davidbalbert\n",
      "https://api.github.com/users/tmm1\n",
      "https://api.github.com/users/raggi\n",
      "https://api.github.com/users/jakedouglas\n",
      "https://api.github.com/users/sodabrew\n",
      "https://api.github.com/users/igrigorik\n",
      "https://api.github.com/users/smparkes\n",
      "https://api.github.com/users/dj2\n",
      "https://api.github.com/users/bklang\n",
      "https://api.github.com/users/davidsmalley\n",
      "https://api.github.com/users/wyhaines\n",
      "https://api.github.com/users/luislavena\n",
      "https://api.github.com/users/michaelklishin\n",
      "https://api.github.com/users/nolman\n",
      "https://api.github.com/users/benburkert\n",
      "https://api.github.com/users/deiv\n",
      "https://api.github.com/users/Flameeyes\n",
      "https://api.github.com/users/razielgn\n",
      "https://api.github.com/users/josh\n",
      "https://api.github.com/users/piki\n",
      "https://api.github.com/users/paddor\n",
      "https://api.github.com/users/garbagecat\n",
      "https://api.github.com/users/hsbt\n",
      "https://api.github.com/users/funny-falcon\n",
      "https://api.github.com/users/gnufied\n",
      "https://api.github.com/users/phiggins\n",
      "https://api.github.com/users/AE9RB\n",
      "https://api.github.com/users/evan-stripe\n",
      "https://api.github.com/users/nahi\n",
      "https://api.github.com/users/neilconway\n",
      "https://api.github.com/users/renekalff\n",
      "https://api.github.com/users/hone\n",
      "https://api.github.com/users/schneems\n",
      "https://api.github.com/users/ddollar\n",
      "https://api.github.com/users/jkutner\n",
      "https://api.github.com/users/danp\n",
      "https://api.github.com/users/catsby\n",
      "https://api.github.com/users/wuputah\n",
      "https://api.github.com/users/mikehale\n",
      "https://api.github.com/users/cyx\n",
      "https://api.github.com/users/mattgraham\n",
      "https://api.github.com/users/DyegoCosta\n",
      "https://api.github.com/users/icco\n",
      "https://api.github.com/users/rcs\n",
      "https://api.github.com/users/indirect\n",
      "https://api.github.com/users/arthurnn\n",
      "https://api.github.com/users/benizi\n",
      "https://api.github.com/users/cjolly\n",
      "https://api.github.com/users/crohr\n",
      "https://api.github.com/users/dgrizzanti\n",
      "https://api.github.com/users/freeformz\n",
      "https://api.github.com/users/xentek\n",
      "https://api.github.com/users/gabrielg\n",
      "https://api.github.com/users/jvanbaarsen\n",
      "https://api.github.com/users/hynkle\n",
      "https://api.github.com/users/jkrall\n",
      "https://api.github.com/users/Fitzsimmons\n",
      "https://api.github.com/users/mmcgrana\n",
      "https://api.github.com/users/nthj\n",
      "https://api.github.com/users/oguzbilgic\n",
      "https://api.github.com/users/sumbach\n",
      "https://api.github.com/users/josh\n",
      "https://api.github.com/users/sstephenson\n",
      "https://api.github.com/users/tenderlove\n",
      "https://api.github.com/users/rafaelfranca\n",
      "https://api.github.com/users/dgraham\n",
      "https://api.github.com/users/Andreis13\n",
      "https://api.github.com/users/joshk\n",
      "https://api.github.com/users/juddblair\n",
      "https://api.github.com/users/mastahyeti\n",
      "https://api.github.com/users/hotchpotch\n",
      "https://api.github.com/users/ixti\n",
      "https://api.github.com/users/elia\n",
      "https://api.github.com/users/sferik\n",
      "https://api.github.com/users/jackdempsey\n",
      "https://api.github.com/users/mat813\n",
      "https://api.github.com/users/petebrowne\n",
      "https://api.github.com/users/drogus\n",
      "https://api.github.com/users/tiegz\n",
      "https://api.github.com/users/fxn\n",
      "https://api.github.com/users/yoshiori\n",
      "https://api.github.com/users/schneems\n",
      "https://api.github.com/users/sonnym\n",
      "https://api.github.com/users/aaronblohowiak\n",
      "https://api.github.com/users/seuros\n",
      "https://api.github.com/users/poporul\n",
      "https://api.github.com/users/jeltz\n",
      "https://api.github.com/users/ai\n",
      "https://api.github.com/users/adomokos\n",
      "https://api.github.com/users/cespare\n",
      "https://api.github.com/users/carlosantoniodasilva\n",
      "https://api.github.com/users/jcoglan\n",
      "https://api.github.com/users/kokeshii\n",
      "https://api.github.com/users/davidbalbert\n",
      "https://api.github.com/users/alexandrinaw\n",
      "https://api.github.com/users/zachallaun\n",
      "https://api.github.com/users/jjst\n",
      "https://api.github.com/users/karamcnair\n",
      "https://api.github.com/users/mrdrozdov\n",
      "https://api.github.com/users/vakila\n",
      "https://api.github.com/users/munyari\n",
      "https://api.github.com/users/pnasrat\n",
      "https://api.github.com/users/meereeum\n",
      "https://api.github.com/users/ifo\n",
      "https://api.github.com/users/bgilbert\n",
      "https://api.github.com/users/zeusdeux\n",
      "https://api.github.com/users/dalequi\n",
      "https://api.github.com/users/porterjamesj\n",
      "https://api.github.com/users/davidbalbert\n",
      "https://api.github.com/users/senk\n",
      "https://api.github.com/users/mrcoles\n"
     ]
    }
   ],
   "source": [
    "# Access just the url with nested for loops\n",
    "for i in range (0, len(all_org_contributions)):\n",
    "    for j in range (0, len(all_org_contributions[i])):\n",
    "        # this would be the find_name lookup\n",
    "        print(all_org_contributions[i][j]['profile_url'])"
   ]
  },
  {
   "cell_type": "code",
   "execution_count": 78,
   "metadata": {},
   "outputs": [],
   "source": [
    "def lookup_human_name(profile_url):\n",
    "    # restate headers in case I need to change\n",
    "    lookup_headers = {'Content-Type': 'application/json',\n",
    "           'User-Agent': 'python-requests/3.6.1',\n",
    "           'Accept': 'application/vnd.github.v3+json'}\n",
    "    \n",
    "    response = session.get(profile_url, headers=lookup_headers)\n",
    "\n",
    "    if response.status_code == 200:\n",
    "        return (response.json()['name'])\n",
    "    else:\n",
    "        print('[!] HTTP {0} looking up user [{1}]'.format(response.status_code, profile_url))\n",
    "        return None"
   ]
  },
  {
   "cell_type": "code",
   "execution_count": 79,
   "metadata": {},
   "outputs": [],
   "source": [
    "# Test for profiles without a name filled in \n",
    "a = lookup_human_name('https://api.github.com/users/sursh')"
   ]
  },
  {
   "cell_type": "code",
   "execution_count": 80,
   "metadata": {},
   "outputs": [
    {
     "name": "stdout",
     "output_type": "stream",
     "text": [
      "None\n"
     ]
    }
   ],
   "source": [
    "print(a) # this won't throw an error so should be ok"
   ]
  },
  {
   "cell_type": "code",
   "execution_count": 81,
   "metadata": {},
   "outputs": [
    {
     "name": "stdout",
     "output_type": "stream",
     "text": [
      "[!] HTTP 403 looking up user [https://api.github.com/users/thomasballinger]\n",
      "[!] HTTP 403 looking up user [https://api.github.com/users/margo73465]\n",
      "[!] HTTP 403 looking up user [https://api.github.com/users/maccman]\n",
      "[!] HTTP 403 looking up user [https://api.github.com/users/josh]\n",
      "[!] HTTP 403 looking up user [https://api.github.com/users/alex-stripe]\n",
      "[!] HTTP 403 looking up user [https://api.github.com/users/zachallaun]\n",
      "[!] HTTP 403 looking up user [https://api.github.com/users/davidbalbert]\n",
      "[!] HTTP 403 looking up user [https://api.github.com/users/tmm1]\n",
      "[!] HTTP 403 looking up user [https://api.github.com/users/raggi]\n",
      "[!] HTTP 403 looking up user [https://api.github.com/users/jakedouglas]\n",
      "[!] HTTP 403 looking up user [https://api.github.com/users/sodabrew]\n",
      "[!] HTTP 403 looking up user [https://api.github.com/users/igrigorik]\n",
      "[!] HTTP 403 looking up user [https://api.github.com/users/smparkes]\n",
      "[!] HTTP 403 looking up user [https://api.github.com/users/dj2]\n",
      "[!] HTTP 403 looking up user [https://api.github.com/users/bklang]\n",
      "[!] HTTP 403 looking up user [https://api.github.com/users/davidsmalley]\n",
      "[!] HTTP 403 looking up user [https://api.github.com/users/wyhaines]\n",
      "[!] HTTP 403 looking up user [https://api.github.com/users/luislavena]\n",
      "[!] HTTP 403 looking up user [https://api.github.com/users/michaelklishin]\n",
      "[!] HTTP 403 looking up user [https://api.github.com/users/nolman]\n",
      "[!] HTTP 403 looking up user [https://api.github.com/users/benburkert]\n",
      "[!] HTTP 403 looking up user [https://api.github.com/users/deiv]\n",
      "[!] HTTP 403 looking up user [https://api.github.com/users/Flameeyes]\n",
      "[!] HTTP 403 looking up user [https://api.github.com/users/razielgn]\n",
      "[!] HTTP 403 looking up user [https://api.github.com/users/josh]\n",
      "[!] HTTP 403 looking up user [https://api.github.com/users/piki]\n",
      "[!] HTTP 403 looking up user [https://api.github.com/users/paddor]\n",
      "[!] HTTP 403 looking up user [https://api.github.com/users/garbagecat]\n",
      "[!] HTTP 403 looking up user [https://api.github.com/users/hsbt]\n",
      "[!] HTTP 403 looking up user [https://api.github.com/users/funny-falcon]\n",
      "[!] HTTP 403 looking up user [https://api.github.com/users/gnufied]\n",
      "[!] HTTP 403 looking up user [https://api.github.com/users/phiggins]\n",
      "[!] HTTP 403 looking up user [https://api.github.com/users/AE9RB]\n",
      "[!] HTTP 403 looking up user [https://api.github.com/users/evan-stripe]\n",
      "[!] HTTP 403 looking up user [https://api.github.com/users/nahi]\n",
      "[!] HTTP 403 looking up user [https://api.github.com/users/neilconway]\n",
      "[!] HTTP 403 looking up user [https://api.github.com/users/renekalff]\n",
      "[!] HTTP 403 looking up user [https://api.github.com/users/hone]\n",
      "[!] HTTP 403 looking up user [https://api.github.com/users/schneems]\n",
      "[!] HTTP 403 looking up user [https://api.github.com/users/ddollar]\n",
      "[!] HTTP 403 looking up user [https://api.github.com/users/jkutner]\n",
      "[!] HTTP 403 looking up user [https://api.github.com/users/danp]\n",
      "[!] HTTP 403 looking up user [https://api.github.com/users/catsby]\n",
      "[!] HTTP 403 looking up user [https://api.github.com/users/wuputah]\n",
      "[!] HTTP 403 looking up user [https://api.github.com/users/mikehale]\n",
      "[!] HTTP 403 looking up user [https://api.github.com/users/cyx]\n",
      "[!] HTTP 403 looking up user [https://api.github.com/users/mattgraham]\n",
      "[!] HTTP 403 looking up user [https://api.github.com/users/DyegoCosta]\n",
      "[!] HTTP 403 looking up user [https://api.github.com/users/icco]\n",
      "[!] HTTP 403 looking up user [https://api.github.com/users/rcs]\n",
      "[!] HTTP 403 looking up user [https://api.github.com/users/indirect]\n",
      "[!] HTTP 403 looking up user [https://api.github.com/users/arthurnn]\n",
      "[!] HTTP 403 looking up user [https://api.github.com/users/benizi]\n",
      "[!] HTTP 403 looking up user [https://api.github.com/users/cjolly]\n",
      "[!] HTTP 403 looking up user [https://api.github.com/users/crohr]\n",
      "[!] HTTP 403 looking up user [https://api.github.com/users/dgrizzanti]\n",
      "[!] HTTP 403 looking up user [https://api.github.com/users/freeformz]\n",
      "[!] HTTP 403 looking up user [https://api.github.com/users/xentek]\n",
      "[!] HTTP 403 looking up user [https://api.github.com/users/gabrielg]\n",
      "[!] HTTP 403 looking up user [https://api.github.com/users/jvanbaarsen]\n",
      "[!] HTTP 403 looking up user [https://api.github.com/users/hynkle]\n",
      "[!] HTTP 403 looking up user [https://api.github.com/users/jkrall]\n",
      "[!] HTTP 403 looking up user [https://api.github.com/users/Fitzsimmons]\n",
      "[!] HTTP 403 looking up user [https://api.github.com/users/mmcgrana]\n",
      "[!] HTTP 403 looking up user [https://api.github.com/users/nthj]\n",
      "[!] HTTP 403 looking up user [https://api.github.com/users/oguzbilgic]\n",
      "[!] HTTP 403 looking up user [https://api.github.com/users/sumbach]\n",
      "[!] HTTP 403 looking up user [https://api.github.com/users/josh]\n",
      "[!] HTTP 403 looking up user [https://api.github.com/users/sstephenson]\n",
      "[!] HTTP 403 looking up user [https://api.github.com/users/tenderlove]\n",
      "[!] HTTP 403 looking up user [https://api.github.com/users/rafaelfranca]\n",
      "[!] HTTP 403 looking up user [https://api.github.com/users/dgraham]\n",
      "[!] HTTP 403 looking up user [https://api.github.com/users/Andreis13]\n",
      "[!] HTTP 403 looking up user [https://api.github.com/users/joshk]\n",
      "[!] HTTP 403 looking up user [https://api.github.com/users/juddblair]\n",
      "[!] HTTP 403 looking up user [https://api.github.com/users/mastahyeti]\n",
      "[!] HTTP 403 looking up user [https://api.github.com/users/hotchpotch]\n",
      "[!] HTTP 403 looking up user [https://api.github.com/users/ixti]\n",
      "[!] HTTP 403 looking up user [https://api.github.com/users/elia]\n",
      "[!] HTTP 403 looking up user [https://api.github.com/users/sferik]\n",
      "[!] HTTP 403 looking up user [https://api.github.com/users/jackdempsey]\n",
      "[!] HTTP 403 looking up user [https://api.github.com/users/mat813]\n",
      "[!] HTTP 403 looking up user [https://api.github.com/users/petebrowne]\n",
      "[!] HTTP 403 looking up user [https://api.github.com/users/drogus]\n",
      "[!] HTTP 403 looking up user [https://api.github.com/users/tiegz]\n",
      "[!] HTTP 403 looking up user [https://api.github.com/users/fxn]\n",
      "[!] HTTP 403 looking up user [https://api.github.com/users/yoshiori]\n",
      "[!] HTTP 403 looking up user [https://api.github.com/users/schneems]\n",
      "[!] HTTP 403 looking up user [https://api.github.com/users/sonnym]\n",
      "[!] HTTP 403 looking up user [https://api.github.com/users/aaronblohowiak]\n",
      "[!] HTTP 403 looking up user [https://api.github.com/users/seuros]\n",
      "[!] HTTP 403 looking up user [https://api.github.com/users/poporul]\n",
      "[!] HTTP 403 looking up user [https://api.github.com/users/jeltz]\n",
      "[!] HTTP 403 looking up user [https://api.github.com/users/ai]\n",
      "[!] HTTP 403 looking up user [https://api.github.com/users/adomokos]\n",
      "[!] HTTP 403 looking up user [https://api.github.com/users/cespare]\n",
      "[!] HTTP 403 looking up user [https://api.github.com/users/carlosantoniodasilva]\n",
      "[!] HTTP 403 looking up user [https://api.github.com/users/jcoglan]\n",
      "[!] HTTP 403 looking up user [https://api.github.com/users/kokeshii]\n",
      "[!] HTTP 403 looking up user [https://api.github.com/users/davidbalbert]\n",
      "[!] HTTP 403 looking up user [https://api.github.com/users/alexandrinaw]\n",
      "[!] HTTP 403 looking up user [https://api.github.com/users/zachallaun]\n",
      "[!] HTTP 403 looking up user [https://api.github.com/users/jjst]\n",
      "[!] HTTP 403 looking up user [https://api.github.com/users/karamcnair]\n",
      "[!] HTTP 403 looking up user [https://api.github.com/users/mrdrozdov]\n",
      "[!] HTTP 403 looking up user [https://api.github.com/users/vakila]\n",
      "[!] HTTP 403 looking up user [https://api.github.com/users/munyari]\n",
      "[!] HTTP 403 looking up user [https://api.github.com/users/pnasrat]\n",
      "[!] HTTP 403 looking up user [https://api.github.com/users/meereeum]\n",
      "[!] HTTP 403 looking up user [https://api.github.com/users/ifo]\n",
      "[!] HTTP 403 looking up user [https://api.github.com/users/bgilbert]\n",
      "[!] HTTP 403 looking up user [https://api.github.com/users/zeusdeux]\n",
      "[!] HTTP 403 looking up user [https://api.github.com/users/dalequi]\n",
      "[!] HTTP 403 looking up user [https://api.github.com/users/porterjamesj]\n",
      "[!] HTTP 403 looking up user [https://api.github.com/users/davidbalbert]\n",
      "[!] HTTP 403 looking up user [https://api.github.com/users/senk]\n",
      "[!] HTTP 403 looking up user [https://api.github.com/users/mrcoles]\n"
     ]
    }
   ],
   "source": [
    "# This for loop would be in last stage of repo scrape\n",
    "for i in range (0, len(all_org_contributions)):\n",
    "    for j in range (0, len(all_org_contributions[i])):\n",
    "        human_name = lookup_human_name(all_org_contributions[i][j]['profile_url'])\n",
    "        all_org_contributions[i][j]['name'] = human_name"
   ]
  },
  {
   "cell_type": "markdown",
   "metadata": {},
   "source": [
    "## To do - \n",
    "preserve progress so that we don't lose everything if there's an error half way"
   ]
  },
  {
   "cell_type": "code",
   "execution_count": 86,
   "metadata": {},
   "outputs": [
    {
     "data": {
      "text/plain": [
       "[{'repo': 'hs-cli',\n",
       "  'username': 'zachallaun',\n",
       "  'contributions': 51,\n",
       "  'avatar_url': 'https://avatars0.githubusercontent.com/u/503938?v=4',\n",
       "  'profile_url': 'https://api.github.com/users/zachallaun',\n",
       "  'name': 'Zach Allaun'},\n",
       " {'repo': 'hs-cli',\n",
       "  'username': 'davidbalbert',\n",
       "  'contributions': 2,\n",
       "  'avatar_url': 'https://avatars2.githubusercontent.com/u/123350?v=4',\n",
       "  'profile_url': 'https://api.github.com/users/davidbalbert',\n",
       "  'name': 'David Albert'}]"
      ]
     },
     "execution_count": 86,
     "metadata": {},
     "output_type": "execute_result"
    }
   ],
   "source": [
    "all_org_contributions[0] \n",
    "# This works for getting names except I'm getting rate banned"
   ]
  },
  {
   "cell_type": "code",
   "execution_count": 73,
   "metadata": {},
   "outputs": [
    {
     "name": "stdout",
     "output_type": "stream",
     "text": [
      "[!] HTTP 403 looking up user [https://api.github.com/users/sursh]\n"
     ]
    }
   ],
   "source": [
    "a = lookup_human_name('https://api.github.com/users/sursh')"
   ]
  },
  {
   "cell_type": "markdown",
   "metadata": {},
   "source": [
    "Got a message from GitHub:\n",
    "```\n",
    "{\n",
    "  \"message\": \"API rate limit exceeded for 66.108.11.123. (But here's the good news: \n",
    "  Authenticated requests get a higher rate limit. Check out the documentation for more details.)\",\n",
    "  \"documentation_url\": \"https://developer.github.com/v3/#rate-limiting\"\n",
    "}\n",
    "```\n",
    "=> Need to lookup how to do authentication w/o putting my client id & key on a public repo."
   ]
  },
  {
   "cell_type": "markdown",
   "metadata": {},
   "source": [
    "GitHub mentions authentication [here](https://developer.github.com/v3/#authentication):\n",
    "\n",
    "Authentication token can be put into header:\n",
    "`curl -H \"Authorization: token OAUTH-TOKEN\" https://api.github.com`"
   ]
  },
  {
   "cell_type": "markdown",
   "metadata": {},
   "source": [
    "Example code from [StackOverflow](https://stackoverflow.com/questions/17622439/how-to-use-github-api-token-in-python-for-requesting):\n",
    "```python\n",
    "self.headers = {'Authorization': 'token %s' % self.api_token}\n",
    "r = requests.post(url, headers=self.headers)\n",
    "```"
   ]
  },
  {
   "cell_type": "markdown",
   "metadata": {},
   "source": [
    "## OAuth Apps\n",
    "In order to make this work I need an OAuth application token, that I get here.\n",
    "https://developer.github.com/apps/building-oauth-apps/"
   ]
  },
  {
   "cell_type": "code",
   "execution_count": null,
   "metadata": {},
   "outputs": [],
   "source": []
  }
 ],
 "metadata": {
  "kernelspec": {
   "display_name": "Python (scraper)",
   "language": "python",
   "name": "scraper"
  },
  "language_info": {
   "codemirror_mode": {
    "name": "ipython",
    "version": 3
   },
   "file_extension": ".py",
   "mimetype": "text/x-python",
   "name": "python",
   "nbconvert_exporter": "python",
   "pygments_lexer": "ipython3",
   "version": "3.7.1"
  }
 },
 "nbformat": 4,
 "nbformat_minor": 2
}
