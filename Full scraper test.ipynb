{
 "cells": [
  {
   "cell_type": "markdown",
   "metadata": {},
   "source": [
    "# Scraper test w/ OAuth token"
   ]
  },
  {
   "cell_type": "code",
   "execution_count": 3,
   "metadata": {},
   "outputs": [],
   "source": [
    "# %load clear_get_repo_contributions.py\n",
    "import json\n",
    "import requests\n",
    "import config\n",
    "\n",
    "session = requests.session()\n",
    "## Comment out Tor proxy for now.\n",
    "# session.proxies = {}\n",
    "# session.proxies['http'] = 'socks5h://localhost:9050'\n",
    "# session.proxies['https'] = 'socks5h://localhost:9050'\n",
    "\n",
    "API_TOKEN = config.api_key\n",
    "\n",
    "api_url_base = 'https://api.github.com/'\n",
    "headers = {'Content-Type': 'application/json',\n",
    "           'User-Agent': 'python-requests/3.6.1',\n",
    "           'Accept': 'application/vnd.github.v3+json',\n",
    "           'Authorization': 'token %s' % API_TOKEN}\n",
    "\n",
    "\n",
    "def get_repos(orgname):\n",
    "    api_url = '{}orgs/{}/repos'.format(api_url_base, orgname)\n",
    "    # use session.get instead of request\n",
    "    response = session.get(api_url, headers=headers)\n",
    "\n",
    "    if response.status_code == 200:\n",
    "        return (response.json())\n",
    "    else:\n",
    "        print('[!] HTTP {0} calling [{1}]'.format(response.status_code, api_url))\n",
    "        return None\n",
    "\n",
    "\n",
    "def get_contributors(repo):\n",
    "    name = repo['name']\n",
    "    contrib_url = repo['contributors_url']\n",
    "    \n",
    "    response = session.get(contrib_url, headers=headers)\n",
    "\n",
    "    if response.status_code == 200:\n",
    "        return (\n",
    "            # returns `contribution_response`\n",
    "            {'name': name,\n",
    "             'data': response.json()}\n",
    "        )\n",
    "    else:\n",
    "        print('[!] HTTP {0} calling repo [{1}]'.format(response.status_code, contrib_url))\n",
    "        return None\n",
    "\n",
    "\n",
    "def build_contribution_list(contribution_response):\n",
    "    all_repo_contributions = list()\n",
    "\n",
    "    for i in range(0,len(contribution_response['data'])):\n",
    "        ctr = dict()\n",
    "        ctr[\"repo\"] = contribution_response['name']\n",
    "        ctr[\"username\"] = contribution_response['data'][i]['login']\n",
    "        ctr[\"contributions\"] = contribution_response['data'][i]['contributions']\n",
    "        ctr[\"avatar_url\"] = contribution_response['data'][i]['avatar_url']\n",
    "        ctr[\"profile_url\"] = contribution_response['data'][i]['url']\n",
    "        all_repo_contributions.append(ctr)\n",
    "    \n",
    "    return all_repo_contributions\n",
    "\n",
    "\n",
    "def lookup_human_name(profile_url):    \n",
    "    response = session.get(profile_url, headers=headers)\n",
    "\n",
    "    if response.status_code == 200:\n",
    "        return (response.json()['name'])\n",
    "    else:\n",
    "        print('[!] HTTP {0} looking up user [{1}]'.format(response.status_code, profile_url))\n",
    "        return None\n",
    "\n",
    "# define list variable outside of get_all_contributions function\n",
    "all_org_contributions = list()\n",
    "  \n",
    "def get_all_contributions(org):\n",
    "    print(\"Retrieving list of all repos for {}\".format(org))\n",
    "    repos = get_repos(org)\n",
    "\n",
    "    for repo in repos:\n",
    "        print(\"Building contributor commit list for {}\".format(repo))\n",
    "        contributors = get_contributors(repo)\n",
    "        contribution_list = build_contribution_list(contributors)\n",
    "        all_org_contributions.append(contribution_list)\n",
    "\n",
    "    # new API call to add real names to dictionary\n",
    "    print(\"Matching real names against contributor usernames...\")\n",
    "    for i in range (0, len(all_org_contributions)):\n",
    "        print(\"Searching repo {} of {}\".format(i,len(all_org_contributions)))\n",
    "        for j in range (0, len(all_org_contributions[i])):\n",
    "            human_name = lookup_human_name(all_org_contributions[i][j]['profile_url'])\n",
    "            all_org_contributions[i][j]['name'] = human_name\n",
    "\n",
    "    print(\"Contribution list complete!\")"
   ]
  },
  {
   "cell_type": "code",
   "execution_count": 4,
   "metadata": {},
   "outputs": [
    {
     "name": "stdout",
     "output_type": "stream",
     "text": [
      "Retrieving list of all repos for \n",
      "Building contributor commit list for \n",
      "Building contributor commit list for \n",
      "Building contributor commit list for \n",
      "Building contributor commit list for \n",
      "Building contributor commit list for \n",
      "Building contributor commit list for \n",
      "Building contributor commit list for \n",
      "Building contributor commit list for \n",
      "Building contributor commit list for \n",
      "Building contributor commit list for \n",
      "Building contributor commit list for \n",
      "Building contributor commit list for \n",
      "Building contributor commit list for \n",
      "Building contributor commit list for \n",
      "Looking up real names for contributor usernames...\n",
      "Contribution list complete!\n"
     ]
    }
   ],
   "source": [
    "get_all_contributions('recursecenter')"
   ]
  },
  {
   "cell_type": "code",
   "execution_count": 7,
   "metadata": {},
   "outputs": [
    {
     "data": {
      "text/plain": [
       "[{'repo': 'hs-cli',\n",
       "  'username': 'zachallaun',\n",
       "  'contributions': 51,\n",
       "  'avatar_url': 'https://avatars0.githubusercontent.com/u/503938?v=4',\n",
       "  'profile_url': 'https://api.github.com/users/zachallaun',\n",
       "  'name': 'Zach Allaun'},\n",
       " {'repo': 'hs-cli',\n",
       "  'username': 'davidbalbert',\n",
       "  'contributions': 2,\n",
       "  'avatar_url': 'https://avatars2.githubusercontent.com/u/123350?v=4',\n",
       "  'profile_url': 'https://api.github.com/users/davidbalbert',\n",
       "  'name': 'David Albert'}]"
      ]
     },
     "execution_count": 7,
     "metadata": {},
     "output_type": "execute_result"
    }
   ],
   "source": [
    "all_org_contributions[0]"
   ]
  },
  {
   "cell_type": "code",
   "execution_count": 8,
   "metadata": {},
   "outputs": [],
   "source": [
    "import pandas as pd"
   ]
  },
  {
   "cell_type": "code",
   "execution_count": 11,
   "metadata": {},
   "outputs": [],
   "source": [
    "df = pd.read_csv('golemfactory.csv', inde)"
   ]
  },
  {
   "cell_type": "code",
   "execution_count": 12,
   "metadata": {},
   "outputs": [
    {
     "data": {
      "text/html": [
       "<div>\n",
       "<style scoped>\n",
       "    .dataframe tbody tr th:only-of-type {\n",
       "        vertical-align: middle;\n",
       "    }\n",
       "\n",
       "    .dataframe tbody tr th {\n",
       "        vertical-align: top;\n",
       "    }\n",
       "\n",
       "    .dataframe thead th {\n",
       "        text-align: right;\n",
       "    }\n",
       "</style>\n",
       "<table border=\"1\" class=\"dataframe\">\n",
       "  <thead>\n",
       "    <tr style=\"text-align: right;\">\n",
       "      <th></th>\n",
       "      <th>{'repo': 'golem', 'username': 'badb', 'contributions': 1381, 'avatar_url': 'https://avatars3.githubusercontent.com/u/483392?v=4', 'profile_url': 'https://api.github.com/users/badb', 'name': None}</th>\n",
       "      <th>{'repo': 'golem', 'username': 'mfranciszkiewicz', 'contributions': 1166, 'avatar_url': 'https://avatars2.githubusercontent.com/u/3238836?v=4', 'profile_url': 'https://api.github.com/users/mfranciszkiewicz', 'name': 'Marek Franciszkiewicz'}</th>\n",
       "      <th>{'repo': 'golem', 'username': 'jiivan', 'contributions': 865, 'avatar_url': 'https://avatars0.githubusercontent.com/u/293058?v=4', 'profile_url': 'https://api.github.com/users/jiivan', 'name': 'Dariusz Rybi'}</th>\n",
       "      <th>{'repo': 'golem', 'username': 'maaktweluit', 'contributions': 508, 'avatar_url': 'https://avatars0.githubusercontent.com/u/10008353?v=4', 'profile_url': 'https://api.github.com/users/maaktweluit', 'name': None}</th>\n",
       "      <th>{'repo': 'golem', 'username': 'chfast', 'contributions': 484, 'avatar_url': 'https://avatars1.githubusercontent.com/u/573380?v=4', 'profile_url': 'https://api.github.com/users/chfast', 'name': 'Paweł Bylica'}</th>\n",
       "      <th>{'repo': 'golem', 'username': 'shadeofblue', 'contributions': 431, 'avatar_url': 'https://avatars1.githubusercontent.com/u/7963044?v=4', 'profile_url': 'https://api.github.com/users/shadeofblue', 'name': None}</th>\n",
       "      <th>{'repo': 'golem', 'username': 'Krigpl', 'contributions': 302, 'avatar_url': 'https://avatars0.githubusercontent.com/u/3904252?v=4', 'profile_url': 'https://api.github.com/users/Krigpl', 'name': None}</th>\n",
       "      <th>{'repo': 'golem', 'username': 'etam', 'contributions': 279, 'avatar_url': 'https://avatars1.githubusercontent.com/u/220752?v=4', 'profile_url': 'https://api.github.com/users/etam', 'name': 'Adam Mizerski'}</th>\n",
       "      <th>{'repo': 'golem', 'username': 'banasiakadam60', 'contributions': 234, 'avatar_url': 'https://avatars2.githubusercontent.com/u/11528913?v=4', 'profile_url': 'https://api.github.com/users/banasiakadam60', 'name': None}</th>\n",
       "      <th>{'repo': 'golem', 'username': 'Wiezzel', 'contributions': 205, 'avatar_url': 'https://avatars0.githubusercontent.com/u/9394821?v=4', 'profile_url': 'https://api.github.com/users/Wiezzel', 'name': 'Adam Wierzbicki'}</th>\n",
       "      <th>...</th>\n",
       "      <th>{'repo': 'golem-rd', 'username': 'Elfoniok', 'contributions': 2, 'avatar_url': 'https://avatars2.githubusercontent.com/u/662433?v=4', 'profile_url': 'https://api.github.com/users/Elfoniok', 'name': None}</th>\n",
       "      <th>{'repo': 'golem-rd', 'username': 'pstiasny', 'contributions': 2, 'avatar_url': 'https://avatars2.githubusercontent.com/u/589320?v=4', 'profile_url': 'https://api.github.com/users/pstiasny', 'name': 'Paweł Stiasny'}</th>\n",
       "      <th>{'repo': 'golem-rd', 'username': 'nieznanysprawiciel', 'contributions': 1, 'avatar_url': 'https://avatars2.githubusercontent.com/u/10420306?v=4', 'profile_url': 'https://api.github.com/users/nieznanysprawiciel', 'name': None}</th>\n",
       "      <th>{'repo': 'golem-rd', 'username': 'lukasz-glen', 'contributions': 1, 'avatar_url': 'https://avatars1.githubusercontent.com/u/29129196?v=4', 'profile_url': 'https://api.github.com/users/lukasz-glen', 'name': None}</th>\n",
       "      <th>{'repo': 'golem-unlimited', 'username': 'prekucki', 'contributions': 201, 'avatar_url': 'https://avatars3.githubusercontent.com/u/56750?v=4', 'profile_url': 'https://api.github.com/users/prekucki', 'name': 'Przemysław Rekucki'}</th>\n",
       "      <th>{'repo': 'golem-unlimited', 'username': 'destruktiw', 'contributions': 184, 'avatar_url': 'https://avatars1.githubusercontent.com/u/22892941?v=4', 'profile_url': 'https://api.github.com/users/destruktiw', 'name': 'Hubert Banaszewski'}</th>\n",
       "      <th>{'repo': 'golem-unlimited', 'username': 'tworec', 'contributions': 141, 'avatar_url': 'https://avatars1.githubusercontent.com/u/12720209?v=4', 'profile_url': 'https://api.github.com/users/tworec', 'name': 'Piotr Chromiec'}</th>\n",
       "      <th>{'repo': 'golem-unlimited', 'username': 'filipgolem', 'contributions': 87, 'avatar_url': 'https://avatars3.githubusercontent.com/u/44880692?v=4', 'profile_url': 'https://api.github.com/users/filipgolem', 'name': None}</th>\n",
       "      <th>{'repo': 'golem-unlimited', 'username': 'marmistrz', 'contributions': 10, 'avatar_url': 'https://avatars1.githubusercontent.com/u/2914938?v=4', 'profile_url': 'https://api.github.com/users/marmistrz', 'name': 'Marcin Mielniczuk'}</th>\n",
       "      <th>{'repo': 'golem-unlimited', 'username': 'badb', 'contributions': 1, 'avatar_url': 'https://avatars3.githubusercontent.com/u/483392?v=4', 'profile_url': 'https://api.github.com/users/badb', 'name': None}</th>\n",
       "    </tr>\n",
       "  </thead>\n",
       "  <tbody>\n",
       "  </tbody>\n",
       "</table>\n",
       "<p>0 rows × 200 columns</p>\n",
       "</div>"
      ],
      "text/plain": [
       "Empty DataFrame\n",
       "Columns: [{'repo': 'golem', 'username': 'badb', 'contributions': 1381, 'avatar_url': 'https://avatars3.githubusercontent.com/u/483392?v=4', 'profile_url': 'https://api.github.com/users/badb', 'name': None}, {'repo': 'golem', 'username': 'mfranciszkiewicz', 'contributions': 1166, 'avatar_url': 'https://avatars2.githubusercontent.com/u/3238836?v=4', 'profile_url': 'https://api.github.com/users/mfranciszkiewicz', 'name': 'Marek Franciszkiewicz'}, {'repo': 'golem', 'username': 'jiivan', 'contributions': 865, 'avatar_url': 'https://avatars0.githubusercontent.com/u/293058?v=4', 'profile_url': 'https://api.github.com/users/jiivan', 'name': 'Dariusz Rybi'}, {'repo': 'golem', 'username': 'maaktweluit', 'contributions': 508, 'avatar_url': 'https://avatars0.githubusercontent.com/u/10008353?v=4', 'profile_url': 'https://api.github.com/users/maaktweluit', 'name': None}, {'repo': 'golem', 'username': 'chfast', 'contributions': 484, 'avatar_url': 'https://avatars1.githubusercontent.com/u/573380?v=4', 'profile_url': 'https://api.github.com/users/chfast', 'name': 'Paweł Bylica'}, {'repo': 'golem', 'username': 'shadeofblue', 'contributions': 431, 'avatar_url': 'https://avatars1.githubusercontent.com/u/7963044?v=4', 'profile_url': 'https://api.github.com/users/shadeofblue', 'name': None}, {'repo': 'golem', 'username': 'Krigpl', 'contributions': 302, 'avatar_url': 'https://avatars0.githubusercontent.com/u/3904252?v=4', 'profile_url': 'https://api.github.com/users/Krigpl', 'name': None}, {'repo': 'golem', 'username': 'etam', 'contributions': 279, 'avatar_url': 'https://avatars1.githubusercontent.com/u/220752?v=4', 'profile_url': 'https://api.github.com/users/etam', 'name': 'Adam Mizerski'}, {'repo': 'golem', 'username': 'banasiakadam60', 'contributions': 234, 'avatar_url': 'https://avatars2.githubusercontent.com/u/11528913?v=4', 'profile_url': 'https://api.github.com/users/banasiakadam60', 'name': None}, {'repo': 'golem', 'username': 'Wiezzel', 'contributions': 205, 'avatar_url': 'https://avatars0.githubusercontent.com/u/9394821?v=4', 'profile_url': 'https://api.github.com/users/Wiezzel', 'name': 'Adam Wierzbicki'}, {'repo': 'golem', 'username': 'tworec', 'contributions': 188, 'avatar_url': 'https://avatars1.githubusercontent.com/u/12720209?v=4', 'profile_url': 'https://api.github.com/users/tworec', 'name': 'Piotr Chromiec'}, {'repo': 'golem', 'username': 'inexxt', 'contributions': 185, 'avatar_url': 'https://avatars2.githubusercontent.com/u/9115750?v=4', 'profile_url': 'https://api.github.com/users/inexxt', 'name': 'Jacek Karwowski'}, {'repo': 'golem', 'username': 'azawlocki', 'contributions': 179, 'avatar_url': 'https://avatars2.githubusercontent.com/u/3354707?v=4', 'profile_url': 'https://api.github.com/users/azawlocki', 'name': None}, {'repo': 'golem', 'username': 'Elfoniok', 'contributions': 150, 'avatar_url': 'https://avatars2.githubusercontent.com/u/662433?v=4', 'profile_url': 'https://api.github.com/users/Elfoniok', 'name': None}, {'repo': 'golem', 'username': 'mdtanrikulu', 'contributions': 102, 'avatar_url': 'https://avatars1.githubusercontent.com/u/2774845?v=4', 'profile_url': 'https://api.github.com/users/mdtanrikulu', 'name': 'Muhammed Tanrıkulu'}, {'repo': 'golem', 'username': 'ktomala', 'contributions': 101, 'avatar_url': 'https://avatars2.githubusercontent.com/u/879400?v=4', 'profile_url': 'https://api.github.com/users/ktomala', 'name': 'Karol Tomala'}, {'repo': 'golem', 'username': 'gborowik', 'contributions': 89, 'avatar_url': 'https://avatars0.githubusercontent.com/u/18439414?v=4', 'profile_url': 'https://api.github.com/users/gborowik', 'name': None}, {'repo': 'golem', 'username': 'dybi', 'contributions': 81, 'avatar_url': 'https://avatars0.githubusercontent.com/u/36961162?v=4', 'profile_url': 'https://api.github.com/users/dybi', 'name': 'Piotr Dybowski'}, {'repo': 'golem', 'username': 'paulperegud', 'contributions': 71, 'avatar_url': 'https://avatars2.githubusercontent.com/u/247162?v=4', 'profile_url': 'https://api.github.com/users/paulperegud', 'name': 'Paul Peregud'}, {'repo': 'golem', 'username': 'zakaprov', 'contributions': 60, 'avatar_url': 'https://avatars1.githubusercontent.com/u/4924466?v=4', 'profile_url': 'https://api.github.com/users/zakaprov', 'name': 'Kuba Mazurek'}, {'repo': 'golem', 'username': 'marmistrz', 'contributions': 40, 'avatar_url': 'https://avatars1.githubusercontent.com/u/2914938?v=4', 'profile_url': 'https://api.github.com/users/marmistrz', 'name': 'Marcin Mielniczuk'}, {'repo': 'golem', 'username': 'magdasta', 'contributions': 34, 'avatar_url': 'https://avatars0.githubusercontent.com/u/13525071?v=4', 'profile_url': 'https://api.github.com/users/magdasta', 'name': None}, {'repo': 'golem', 'username': 'pstiasny', 'contributions': 19, 'avatar_url': 'https://avatars2.githubusercontent.com/u/589320?v=4', 'profile_url': 'https://api.github.com/users/pstiasny', 'name': 'Paweł Stiasny'}, {'repo': 'golem', 'username': 'bidzyyys', 'contributions': 18, 'avatar_url': 'https://avatars0.githubusercontent.com/u/25967634?v=4', 'profile_url': 'https://api.github.com/users/bidzyyys', 'name': 'Daniel Bigos'}, {'repo': 'golem', 'username': 'mplebanski', 'contributions': 16, 'avatar_url': 'https://avatars0.githubusercontent.com/u/42939509?v=4', 'profile_url': 'https://api.github.com/users/mplebanski', 'name': None}, {'repo': 'golem', 'username': 'weaselix', 'contributions': 15, 'avatar_url': 'https://avatars2.githubusercontent.com/u/45812268?v=4', 'profile_url': 'https://api.github.com/users/weaselix', 'name': 'radek'}, {'repo': 'golem', 'username': 'Wolf480pl', 'contributions': 14, 'avatar_url': 'https://avatars0.githubusercontent.com/u/1498760?v=4', 'profile_url': 'https://api.github.com/users/Wolf480pl', 'name': None}, {'repo': 'golem', 'username': 'matthewsedam', 'contributions': 11, 'avatar_url': 'https://avatars3.githubusercontent.com/u/838004?v=4', 'profile_url': 'https://api.github.com/users/matthewsedam', 'name': 'Matthew Sedam'}, {'repo': 'golem', 'username': 'nieznanysprawiciel', 'contributions': 10, 'avatar_url': 'https://avatars2.githubusercontent.com/u/10420306?v=4', 'profile_url': 'https://api.github.com/users/nieznanysprawiciel', 'name': None}, {'repo': 'golem', 'username': 'pawelkisielewicz', 'contributions': 8, 'avatar_url': 'https://avatars3.githubusercontent.com/u/36702174?v=4', 'profile_url': 'https://api.github.com/users/pawelkisielewicz', 'name': None}, {'repo': 'golem-micropayments-whitepaper', 'username': 'azawlocki', 'contributions': 23, 'avatar_url': 'https://avatars2.githubusercontent.com/u/3354707?v=4', 'profile_url': 'https://api.github.com/users/azawlocki', 'name': None}, {'repo': 'imunes', 'username': 'oikuda', 'contributions': 174, 'avatar_url': 'https://avatars0.githubusercontent.com/u/8776430?v=4', 'profile_url': 'https://api.github.com/users/oikuda', 'name': 'Valter Vasić'}, {'repo': 'imunes', 'username': 'denisSal', 'contributions': 109, 'avatar_url': 'https://avatars1.githubusercontent.com/u/10561979?v=4', 'profile_url': 'https://api.github.com/users/denisSal', 'name': 'Denis Salopek'}, {'repo': 'imunes', 'username': 'gcetusic', 'contributions': 61, 'avatar_url': 'https://avatars0.githubusercontent.com/u/1023690?v=4', 'profile_url': 'https://api.github.com/users/gcetusic', 'name': 'Goran Cetušić'}, {'repo': 'imunes', 'username': 'gornjas', 'contributions': 17, 'avatar_url': 'https://avatars3.githubusercontent.com/u/11854009?v=4', 'profile_url': 'https://api.github.com/users/gornjas', 'name': 'Marko Zec'}, {'repo': 'imunes', 'username': 'mmikuc', 'contributions': 12, 'avatar_url': 'https://avatars1.githubusercontent.com/u/11411295?v=4', 'profile_url': 'https://api.github.com/users/mmikuc', 'name': None}, {'repo': 'imunes', 'username': 'azawlocki', 'contributions': 3, 'avatar_url': 'https://avatars2.githubusercontent.com/u/3354707?v=4', 'profile_url': 'https://api.github.com/users/azawlocki', 'name': None}, {'repo': 'ethereum-contracts', 'username': 'chfast', 'contributions': 29, 'avatar_url': 'https://avatars1.githubusercontent.com/u/573380?v=4', 'profile_url': 'https://api.github.com/users/chfast', 'name': 'Paweł Bylica'}, {'repo': 'ethereum-contracts', 'username': 'azawlocki', 'contributions': 1, 'avatar_url': 'https://avatars2.githubusercontent.com/u/3354707?v=4', 'profile_url': 'https://api.github.com/users/azawlocki', 'name': None}, {'repo': 'golem-binary-dependencies', 'username': 'azawlocki', 'contributions': 2, 'avatar_url': 'https://avatars2.githubusercontent.com/u/3354707?v=4', 'profile_url': 'https://api.github.com/users/azawlocki', 'name': None}, {'repo': 'gnr-taskcollector', 'username': 'chfast', 'contributions': 5, 'avatar_url': 'https://avatars1.githubusercontent.com/u/573380?v=4', 'profile_url': 'https://api.github.com/users/chfast', 'name': 'Paweł Bylica'}, {'repo': 'gnr-taskcollector', 'username': 'banasiakadam60', 'contributions': 2, 'avatar_url': 'https://avatars2.githubusercontent.com/u/11528913?v=4', 'profile_url': 'https://api.github.com/users/banasiakadam60', 'name': None}, {'repo': 'gnr-taskcollector', 'username': 'badb', 'contributions': 1, 'avatar_url': 'https://avatars3.githubusercontent.com/u/483392?v=4', 'profile_url': 'https://api.github.com/users/badb', 'name': None}, {'repo': 'ethereum-payments', 'username': 'chfast', 'contributions': 55, 'avatar_url': 'https://avatars1.githubusercontent.com/u/573380?v=4', 'profile_url': 'https://api.github.com/users/chfast', 'name': 'Paweł Bylica'}, {'repo': 'ethereum-payments', 'username': 'badb', 'contributions': 2, 'avatar_url': 'https://avatars3.githubusercontent.com/u/483392?v=4', 'profile_url': 'https://api.github.com/users/badb', 'name': None}, {'repo': 'golem-docs-old', 'username': 'magdasta', 'contributions': 15, 'avatar_url': 'https://avatars0.githubusercontent.com/u/13525071?v=4', 'profile_url': 'https://api.github.com/users/magdasta', 'name': None}, {'repo': 'golem-docs-old', 'username': 'badb', 'contributions': 13, 'avatar_url': 'https://avatars3.githubusercontent.com/u/483392?v=4', 'profile_url': 'https://api.github.com/users/badb', 'name': None}, {'repo': 'golem-docs-old', 'username': 'jzaw', 'contributions': 4, 'avatar_url': 'https://avatars1.githubusercontent.com/u/15913983?v=4', 'profile_url': 'https://api.github.com/users/jzaw', 'name': None}, {'repo': 'golem-docs-old', 'username': 'chfast', 'contributions': 1, 'avatar_url': 'https://avatars1.githubusercontent.com/u/573380?v=4', 'profile_url': 'https://api.github.com/users/chfast', 'name': 'Paweł Bylica'}, {'repo': 'golem-docs-old', 'username': 'PhABC', 'contributions': 1, 'avatar_url': 'https://avatars2.githubusercontent.com/u/9306422?v=4', 'profile_url': 'https://api.github.com/users/PhABC', 'name': 'Philippe Castonguay'}, {'repo': 'golem-docs-old', 'username': 'mfranciszkiewicz', 'contributions': 1, 'avatar_url': 'https://avatars2.githubusercontent.com/u/3238836?v=4', 'profile_url': 'https://api.github.com/users/mfranciszkiewicz', 'name': 'Marek Franciszkiewicz'}, {'repo': 'golem-crowdfunding', 'username': 'chfast', 'contributions': 145, 'avatar_url': 'https://avatars1.githubusercontent.com/u/573380?v=4', 'profile_url': 'https://api.github.com/users/chfast', 'name': 'Paweł Bylica'}, {'repo': 'golem-crowdfunding', 'username': 'paulperegud', 'contributions': 46, 'avatar_url': 'https://avatars2.githubusercontent.com/u/247162?v=4', 'profile_url': 'https://api.github.com/users/paulperegud', 'name': 'Paul Peregud'}, {'repo': 'golem-crowdfunding', 'username': 'mfranciszkiewicz', 'contributions': 46, 'avatar_url': 'https://avatars2.githubusercontent.com/u/3238836?v=4', 'profile_url': 'https://api.github.com/users/mfranciszkiewicz', 'name': 'Marek Franciszkiewicz'}, {'repo': 'golem-crowdfunding', 'username': 'viggith', 'contributions': 41, 'avatar_url': 'https://avatars1.githubusercontent.com/u/7170881?v=4', 'profile_url': 'https://api.github.com/users/viggith', 'name': 'Viggith'}, {'repo': 'golem-crowdfunding', 'username': 'badb', 'contributions': 14, 'avatar_url': 'https://avatars3.githubusercontent.com/u/483392?v=4', 'profile_url': 'https://api.github.com/users/badb', 'name': None}, {'repo': 'golem-crowdfunding', 'username': 'banasiakadam60', 'contributions': 3, 'avatar_url': 'https://avatars2.githubusercontent.com/u/11528913?v=4', 'profile_url': 'https://api.github.com/users/banasiakadam60', 'name': None}, {'repo': 'golem-crowdfunding', 'username': 'subtly', 'contributions': 1, 'avatar_url': 'https://avatars0.githubusercontent.com/u/6557250?v=4', 'profile_url': 'https://api.github.com/users/subtly', 'name': None}, {'repo': 'golem-usecases', 'username': 'inexxt', 'contributions': 53, 'avatar_url': 'https://avatars2.githubusercontent.com/u/9115750?v=4', 'profile_url': 'https://api.github.com/users/inexxt', 'name': 'Jacek Karwowski'}, {'repo': 'golem-usecases', 'username': 'badb', 'contributions': 3, 'avatar_url': 'https://avatars3.githubusercontent.com/u/483392?v=4', 'profile_url': 'https://api.github.com/users/badb', 'name': None}, {'repo': 'golem-usecases', 'username': 'jiivan', 'contributions': 1, 'avatar_url': 'https://avatars0.githubusercontent.com/u/293058?v=4', 'profile_url': 'https://api.github.com/users/jiivan', 'name': 'Dariusz Rybi'}, {'repo': 'golem-usecases', 'username': 'Sirivasv', 'contributions': 1, 'avatar_url': 'https://avatars0.githubusercontent.com/u/6540632?v=4', 'profile_url': 'https://api.github.com/users/Sirivasv', 'name': 'Saul Ivan Rivas Vega'}, {'repo': 'golem-usecases', 'username': 'gborowik', 'contributions': 1, 'avatar_url': 'https://avatars0.githubusercontent.com/u/18439414?v=4', 'profile_url': 'https://api.github.com/users/gborowik', 'name': None}, {'repo': 'golem-usecases', 'username': 'lukasz-glen', 'contributions': 1, 'avatar_url': 'https://avatars1.githubusercontent.com/u/29129196?v=4', 'profile_url': 'https://api.github.com/users/lukasz-glen', 'name': None}, {'repo': 'golem-hyperdrive', 'username': 'mfranciszkiewicz', 'contributions': 113, 'avatar_url': 'https://avatars2.githubusercontent.com/u/3238836?v=4', 'profile_url': 'https://api.github.com/users/mfranciszkiewicz', 'name': 'Marek Franciszkiewicz'}, {'repo': 'golem-hyperdrive', 'username': 'jiivan', 'contributions': 3, 'avatar_url': 'https://avatars0.githubusercontent.com/u/293058?v=4', 'profile_url': 'https://api.github.com/users/jiivan', 'name': 'Dariusz Rybi'}, {'repo': 'golem-hyperdrive', 'username': 'paulperegud', 'contributions': 2, 'avatar_url': 'https://avatars2.githubusercontent.com/u/247162?v=4', 'profile_url': 'https://api.github.com/users/paulperegud', 'name': 'Paul Peregud'}, {'repo': 'homebrew-golem', 'username': 'gborowik', 'contributions': 57, 'avatar_url': 'https://avatars0.githubusercontent.com/u/18439414?v=4', 'profile_url': 'https://api.github.com/users/gborowik', 'name': None}, {'repo': 'homebrew-golem', 'username': 'mfranciszkiewicz', 'contributions': 26, 'avatar_url': 'https://avatars2.githubusercontent.com/u/3238836?v=4', 'profile_url': 'https://api.github.com/users/mfranciszkiewicz', 'name': 'Marek Franciszkiewicz'}, {'repo': 'homebrew-golem', 'username': 'mdtanrikulu', 'contributions': 20, 'avatar_url': 'https://avatars1.githubusercontent.com/u/2774845?v=4', 'profile_url': 'https://api.github.com/users/mdtanrikulu', 'name': 'Muhammed Tanrıkulu'}, {'repo': 'homebrew-golem', 'username': 'maaktweluit', 'contributions': 3, 'avatar_url': 'https://avatars0.githubusercontent.com/u/10008353?v=4', 'profile_url': 'https://api.github.com/users/maaktweluit', 'name': None}, {'repo': 'homebrew-golem', 'username': 'jet86', 'contributions': 1, 'avatar_url': 'https://avatars0.githubusercontent.com/u/5907985?v=4', 'profile_url': 'https://api.github.com/users/jet86', 'name': 'Tim Jones'}, {'repo': 'homebrew-hyperg', 'username': 'mfranciszkiewicz', 'contributions': 11, 'avatar_url': 'https://avatars2.githubusercontent.com/u/3238836?v=4', 'profile_url': 'https://api.github.com/users/mfranciszkiewicz', 'name': 'Marek Franciszkiewicz'}, {'repo': 'homebrew-hyperg', 'username': 'gborowik', 'contributions': 7, 'avatar_url': 'https://avatars0.githubusercontent.com/u/18439414?v=4', 'profile_url': 'https://api.github.com/users/gborowik', 'name': None}, {'repo': 'golem-electron', 'username': 'mdtanrikulu', 'contributions': 1151, 'avatar_url': 'https://avatars1.githubusercontent.com/u/2774845?v=4', 'profile_url': 'https://api.github.com/users/mdtanrikulu', 'name': 'Muhammed Tanrıkulu'}, {'repo': 'golem-electron', 'username': 'mfranciszkiewicz', 'contributions': 33, 'avatar_url': 'https://avatars2.githubusercontent.com/u/3238836?v=4', 'profile_url': 'https://api.github.com/users/mfranciszkiewicz', 'name': 'Marek Franciszkiewicz'}, {'repo': 'golem-electron', 'username': 'tworec', 'contributions': 24, 'avatar_url': 'https://avatars1.githubusercontent.com/u/12720209?v=4', 'profile_url': 'https://api.github.com/users/tworec', 'name': 'Piotr Chromiec'}, {'repo': 'golem-electron', 'username': 'badb', 'contributions': 8, 'avatar_url': 'https://avatars3.githubusercontent.com/u/483392?v=4', 'profile_url': 'https://api.github.com/users/badb', 'name': None}, {'repo': 'golem-electron', 'username': 'jiivan', 'contributions': 6, 'avatar_url': 'https://avatars0.githubusercontent.com/u/293058?v=4', 'profile_url': 'https://api.github.com/users/jiivan', 'name': 'Dariusz Rybi'}, {'repo': 'golem-electron', 'username': 'banasiakadam60', 'contributions': 5, 'avatar_url': 'https://avatars2.githubusercontent.com/u/11528913?v=4', 'profile_url': 'https://api.github.com/users/banasiakadam60', 'name': None}, {'repo': 'golem-electron', 'username': 'mplebanski', 'contributions': 4, 'avatar_url': 'https://avatars0.githubusercontent.com/u/42939509?v=4', 'profile_url': 'https://api.github.com/users/mplebanski', 'name': None}, {'repo': 'golem-electron', 'username': 'Krigpl', 'contributions': 3, 'avatar_url': 'https://avatars0.githubusercontent.com/u/3904252?v=4', 'profile_url': 'https://api.github.com/users/Krigpl', 'name': None}, {'repo': 'golem-electron', 'username': 'maaktweluit', 'contributions': 3, 'avatar_url': 'https://avatars0.githubusercontent.com/u/10008353?v=4', 'profile_url': 'https://api.github.com/users/maaktweluit', 'name': None}, {'repo': 'golem-electron', 'username': 'zakaprov', 'contributions': 2, 'avatar_url': 'https://avatars1.githubusercontent.com/u/4924466?v=4', 'profile_url': 'https://api.github.com/users/zakaprov', 'name': 'Kuba Mazurek'}, {'repo': 'golem-electron', 'username': 'etam', 'contributions': 1, 'avatar_url': 'https://avatars1.githubusercontent.com/u/220752?v=4', 'profile_url': 'https://api.github.com/users/etam', 'name': 'Adam Mizerski'}, {'repo': 'golem-electron', 'username': 'paulperegud', 'contributions': 1, 'avatar_url': 'https://avatars2.githubusercontent.com/u/247162?v=4', 'profile_url': 'https://api.github.com/users/paulperegud', 'name': 'Paul Peregud'}, {'repo': 'golem-electron', 'username': 'jet86', 'contributions': 1, 'avatar_url': 'https://avatars0.githubusercontent.com/u/5907985?v=4', 'profile_url': 'https://api.github.com/users/jet86', 'name': 'Tim Jones'}, {'repo': 'golem-electron', 'username': 'shadeofblue', 'contributions': 1, 'avatar_url': 'https://avatars1.githubusercontent.com/u/7963044?v=4', 'profile_url': 'https://api.github.com/users/shadeofblue', 'name': None}, {'repo': 'homebrew-golem-dev', 'username': 'mfranciszkiewicz', 'contributions': 54, 'avatar_url': 'https://avatars2.githubusercontent.com/u/3238836?v=4', 'profile_url': 'https://api.github.com/users/mfranciszkiewicz', 'name': 'Marek Franciszkiewicz'}, {'repo': 'homebrew-golem-dev', 'username': 'maaktweluit', 'contributions': 22, 'avatar_url': 'https://avatars0.githubusercontent.com/u/10008353?v=4', 'profile_url': 'https://api.github.com/users/maaktweluit', 'name': None}, {'repo': 'homebrew-golem-dev', 'username': 'mdtanrikulu', 'contributions': 13, 'avatar_url': 'https://avatars1.githubusercontent.com/u/2774845?v=4', 'profile_url': 'https://api.github.com/users/mdtanrikulu', 'name': 'Muhammed Tanrıkulu'}, {'repo': 'homebrew-golem-dev', 'username': 'gborowik', 'contributions': 4, 'avatar_url': 'https://avatars0.githubusercontent.com/u/18439414?v=4', 'profile_url': 'https://api.github.com/users/gborowik', 'name': None}, {'repo': 'homebrew-golem-dev', 'username': 'badb', 'contributions': 1, 'avatar_url': 'https://avatars3.githubusercontent.com/u/483392?v=4', 'profile_url': 'https://api.github.com/users/badb', 'name': None}, {'repo': 'golem-dev', 'username': 'badb', 'contributions': 1, 'avatar_url': 'https://avatars3.githubusercontent.com/u/483392?v=4', 'profile_url': 'https://api.github.com/users/badb', 'name': None}, {'repo': 'devp2p-playground', 'username': 'Wolf480pl', 'contributions': 63, 'avatar_url': 'https://avatars0.githubusercontent.com/u/1498760?v=4', 'profile_url': 'https://api.github.com/users/Wolf480pl', 'name': None}, {'repo': 'pydevp2p', 'username': 'heikoheiko', 'contributions': 274, 'avatar_url': 'https://avatars2.githubusercontent.com/u/2804689?v=4', 'profile_url': 'https://api.github.com/users/heikoheiko', 'name': None}, {'repo': 'pydevp2p', 'username': 'utzig', 'contributions': 51, 'avatar_url': 'https://avatars0.githubusercontent.com/u/107070?v=4', 'profile_url': 'https://api.github.com/users/utzig', 'name': 'Fabio Utzig'}, {'repo': 'pydevp2p', 'username': 'janx', 'contributions': 46, 'avatar_url': 'https://avatars0.githubusercontent.com/u/5958?v=4', 'profile_url': 'https://api.github.com/users/janx', 'name': 'Jan Xie'}, {'repo': 'pydevp2p', 'username': 'ulope', 'contributions': 37, 'avatar_url': 'https://avatars0.githubusercontent.com/u/55078?v=4', 'profile_url': 'https://api.github.com/users/ulope', 'name': 'Ulrich Petri'}, {'repo': 'pydevp2p', 'username': 'konradkonrad', 'contributions': 14, 'avatar_url': 'https://avatars3.githubusercontent.com/u/3705643?v=4', 'profile_url': 'https://api.github.com/users/konradkonrad', 'name': None}, ...]\n",
       "Index: []\n",
       "\n",
       "[0 rows x 200 columns]"
      ]
     },
     "execution_count": 12,
     "metadata": {},
     "output_type": "execute_result"
    }
   ],
   "source": [
    "df.head()"
   ]
  },
  {
   "cell_type": "code",
   "execution_count": null,
   "metadata": {},
   "outputs": [],
   "source": []
  }
 ],
 "metadata": {
  "kernelspec": {
   "display_name": "Python (scraper)",
   "language": "python",
   "name": "scraper"
  },
  "language_info": {
   "codemirror_mode": {
    "name": "ipython",
    "version": 3
   },
   "file_extension": ".py",
   "mimetype": "text/x-python",
   "name": "python",
   "nbconvert_exporter": "python",
   "pygments_lexer": "ipython3",
   "version": "3.7.1"
  }
 },
 "nbformat": 4,
 "nbformat_minor": 2
}
